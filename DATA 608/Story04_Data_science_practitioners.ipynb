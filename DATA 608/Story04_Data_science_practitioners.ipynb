{
  "nbformat": 4,
  "nbformat_minor": 0,
  "metadata": {
    "colab": {
      "provenance": []
    },
    "kernelspec": {
      "name": "python3",
      "display_name": "Python 3"
    },
    "language_info": {
      "name": "python"
    }
  },
  "cells": [
    {
      "cell_type": "markdown",
      "source": [
        "## Story - 4 : How much do we get paid?\n",
        "I have introduced the term \"Data Practitioner\" as a generic job descriptor because we have so many different job role titles for individuals whose work activities overlap including Data Scientist, Data Engineer, Data Analyst, Business Analyst, Data Architect, etc.\n",
        "\n",
        "For this story we will answer the question, \"How much do we get paid?\" Your analysis and data visualizations must address the variation in average salary based on role descriptor and state."
      ],
      "metadata": {
        "id": "CzwzRQ4j2Et-"
      }
    },
    {
      "cell_type": "code",
      "execution_count": 28,
      "metadata": {
        "id": "FiBAcs4feoB7"
      },
      "outputs": [],
      "source": [
        "import pandas as pd\n",
        "import numpy as np\n",
        "import re\n",
        "import matplotlib.pyplot as plt\n",
        "import seaborn as sns\n",
        "import warnings\n",
        "warnings.filterwarnings('ignore')"
      ]
    },
    {
      "cell_type": "code",
      "source": [
        "ds = pd.read_csv('https://raw.githubusercontent.com/nnaemeka-git/global-datasets/main/Job%20listing_Glassdoor.csv')"
      ],
      "metadata": {
        "id": "3BCZtvVIxxRL"
      },
      "execution_count": 29,
      "outputs": []
    },
    {
      "cell_type": "code",
      "source": [
        "ds.head()"
      ],
      "metadata": {
        "colab": {
          "base_uri": "https://localhost:8080/",
          "height": 206
        },
        "id": "GbtmX-DexxT3",
        "outputId": "f1df32b1-1d87-47c9-a3a5-2f26a303fa6d"
      },
      "execution_count": 30,
      "outputs": [
        {
          "output_type": "execute_result",
          "data": {
            "text/plain": [
              "        Location  rating                                          Job_title  \\\n",
              "0  United States     4.1                     Cloud Software & Data Engineer   \n",
              "1  United States     NaN  IT Business Analyst - Reston Virginia (not rem...   \n",
              "2  United States     3.5                                      Data Engineer   \n",
              "3  United States     4.9                            Junior Business Analyst   \n",
              "4  United States     3.2                           Banking Business Analyst   \n",
              "\n",
              "         Place                            salary post_date  \\\n",
              "0  Houston, TX  USD 105K - 148K (Glassdoor est.)        3d   \n",
              "1   Reston, VA    USD 95K - 120K (Employer est.)       24h   \n",
              "2     Michigan                               NaN        8d   \n",
              "3    Omaha, NE     USD 55K - 66K (Employer est.)       24h   \n",
              "4  Atlanta, GA    USD 66K - 91K (Glassdoor est.)       24h   \n",
              "\n",
              "                                     Job_description  \n",
              "0  Job Description\\n\\nA Cloud Software & Data Eng...  \n",
              "1  IT Business Analyst\\n\\nJOB SUMMARY\\n\\nThe IT B...  \n",
              "2                                                NaN  \n",
              "3  MUST HAVE: LOOKING FOR A STRONG BUSINESS ANALY...  \n",
              "4  Infosys is seeking Banking Business Analyst wi...  "
            ],
            "text/html": [
              "\n",
              "  <div id=\"df-3d8d12b8-b80a-410f-b14f-c4213d335a43\" class=\"colab-df-container\">\n",
              "    <div>\n",
              "<style scoped>\n",
              "    .dataframe tbody tr th:only-of-type {\n",
              "        vertical-align: middle;\n",
              "    }\n",
              "\n",
              "    .dataframe tbody tr th {\n",
              "        vertical-align: top;\n",
              "    }\n",
              "\n",
              "    .dataframe thead th {\n",
              "        text-align: right;\n",
              "    }\n",
              "</style>\n",
              "<table border=\"1\" class=\"dataframe\">\n",
              "  <thead>\n",
              "    <tr style=\"text-align: right;\">\n",
              "      <th></th>\n",
              "      <th>Location</th>\n",
              "      <th>rating</th>\n",
              "      <th>Job_title</th>\n",
              "      <th>Place</th>\n",
              "      <th>salary</th>\n",
              "      <th>post_date</th>\n",
              "      <th>Job_description</th>\n",
              "    </tr>\n",
              "  </thead>\n",
              "  <tbody>\n",
              "    <tr>\n",
              "      <th>0</th>\n",
              "      <td>United States</td>\n",
              "      <td>4.1</td>\n",
              "      <td>Cloud Software &amp; Data Engineer</td>\n",
              "      <td>Houston, TX</td>\n",
              "      <td>USD 105K - 148K (Glassdoor est.)</td>\n",
              "      <td>3d</td>\n",
              "      <td>Job Description\\n\\nA Cloud Software &amp; Data Eng...</td>\n",
              "    </tr>\n",
              "    <tr>\n",
              "      <th>1</th>\n",
              "      <td>United States</td>\n",
              "      <td>NaN</td>\n",
              "      <td>IT Business Analyst - Reston Virginia (not rem...</td>\n",
              "      <td>Reston, VA</td>\n",
              "      <td>USD 95K - 120K (Employer est.)</td>\n",
              "      <td>24h</td>\n",
              "      <td>IT Business Analyst\\n\\nJOB SUMMARY\\n\\nThe IT B...</td>\n",
              "    </tr>\n",
              "    <tr>\n",
              "      <th>2</th>\n",
              "      <td>United States</td>\n",
              "      <td>3.5</td>\n",
              "      <td>Data Engineer</td>\n",
              "      <td>Michigan</td>\n",
              "      <td>NaN</td>\n",
              "      <td>8d</td>\n",
              "      <td>NaN</td>\n",
              "    </tr>\n",
              "    <tr>\n",
              "      <th>3</th>\n",
              "      <td>United States</td>\n",
              "      <td>4.9</td>\n",
              "      <td>Junior Business Analyst</td>\n",
              "      <td>Omaha, NE</td>\n",
              "      <td>USD 55K - 66K (Employer est.)</td>\n",
              "      <td>24h</td>\n",
              "      <td>MUST HAVE: LOOKING FOR A STRONG BUSINESS ANALY...</td>\n",
              "    </tr>\n",
              "    <tr>\n",
              "      <th>4</th>\n",
              "      <td>United States</td>\n",
              "      <td>3.2</td>\n",
              "      <td>Banking Business Analyst</td>\n",
              "      <td>Atlanta, GA</td>\n",
              "      <td>USD 66K - 91K (Glassdoor est.)</td>\n",
              "      <td>24h</td>\n",
              "      <td>Infosys is seeking Banking Business Analyst wi...</td>\n",
              "    </tr>\n",
              "  </tbody>\n",
              "</table>\n",
              "</div>\n",
              "    <div class=\"colab-df-buttons\">\n",
              "\n",
              "  <div class=\"colab-df-container\">\n",
              "    <button class=\"colab-df-convert\" onclick=\"convertToInteractive('df-3d8d12b8-b80a-410f-b14f-c4213d335a43')\"\n",
              "            title=\"Convert this dataframe to an interactive table.\"\n",
              "            style=\"display:none;\">\n",
              "\n",
              "  <svg xmlns=\"http://www.w3.org/2000/svg\" height=\"24px\" viewBox=\"0 -960 960 960\">\n",
              "    <path d=\"M120-120v-720h720v720H120Zm60-500h600v-160H180v160Zm220 220h160v-160H400v160Zm0 220h160v-160H400v160ZM180-400h160v-160H180v160Zm440 0h160v-160H620v160ZM180-180h160v-160H180v160Zm440 0h160v-160H620v160Z\"/>\n",
              "  </svg>\n",
              "    </button>\n",
              "\n",
              "  <style>\n",
              "    .colab-df-container {\n",
              "      display:flex;\n",
              "      gap: 12px;\n",
              "    }\n",
              "\n",
              "    .colab-df-convert {\n",
              "      background-color: #E8F0FE;\n",
              "      border: none;\n",
              "      border-radius: 50%;\n",
              "      cursor: pointer;\n",
              "      display: none;\n",
              "      fill: #1967D2;\n",
              "      height: 32px;\n",
              "      padding: 0 0 0 0;\n",
              "      width: 32px;\n",
              "    }\n",
              "\n",
              "    .colab-df-convert:hover {\n",
              "      background-color: #E2EBFA;\n",
              "      box-shadow: 0px 1px 2px rgba(60, 64, 67, 0.3), 0px 1px 3px 1px rgba(60, 64, 67, 0.15);\n",
              "      fill: #174EA6;\n",
              "    }\n",
              "\n",
              "    .colab-df-buttons div {\n",
              "      margin-bottom: 4px;\n",
              "    }\n",
              "\n",
              "    [theme=dark] .colab-df-convert {\n",
              "      background-color: #3B4455;\n",
              "      fill: #D2E3FC;\n",
              "    }\n",
              "\n",
              "    [theme=dark] .colab-df-convert:hover {\n",
              "      background-color: #434B5C;\n",
              "      box-shadow: 0px 1px 3px 1px rgba(0, 0, 0, 0.15);\n",
              "      filter: drop-shadow(0px 1px 2px rgba(0, 0, 0, 0.3));\n",
              "      fill: #FFFFFF;\n",
              "    }\n",
              "  </style>\n",
              "\n",
              "    <script>\n",
              "      const buttonEl =\n",
              "        document.querySelector('#df-3d8d12b8-b80a-410f-b14f-c4213d335a43 button.colab-df-convert');\n",
              "      buttonEl.style.display =\n",
              "        google.colab.kernel.accessAllowed ? 'block' : 'none';\n",
              "\n",
              "      async function convertToInteractive(key) {\n",
              "        const element = document.querySelector('#df-3d8d12b8-b80a-410f-b14f-c4213d335a43');\n",
              "        const dataTable =\n",
              "          await google.colab.kernel.invokeFunction('convertToInteractive',\n",
              "                                                    [key], {});\n",
              "        if (!dataTable) return;\n",
              "\n",
              "        const docLinkHtml = 'Like what you see? Visit the ' +\n",
              "          '<a target=\"_blank\" href=https://colab.research.google.com/notebooks/data_table.ipynb>data table notebook</a>'\n",
              "          + ' to learn more about interactive tables.';\n",
              "        element.innerHTML = '';\n",
              "        dataTable['output_type'] = 'display_data';\n",
              "        await google.colab.output.renderOutput(dataTable, element);\n",
              "        const docLink = document.createElement('div');\n",
              "        docLink.innerHTML = docLinkHtml;\n",
              "        element.appendChild(docLink);\n",
              "      }\n",
              "    </script>\n",
              "  </div>\n",
              "\n",
              "\n",
              "<div id=\"df-c541b77f-32e2-422a-92a1-d41c857fde21\">\n",
              "  <button class=\"colab-df-quickchart\" onclick=\"quickchart('df-c541b77f-32e2-422a-92a1-d41c857fde21')\"\n",
              "            title=\"Suggest charts\"\n",
              "            style=\"display:none;\">\n",
              "\n",
              "<svg xmlns=\"http://www.w3.org/2000/svg\" height=\"24px\"viewBox=\"0 0 24 24\"\n",
              "     width=\"24px\">\n",
              "    <g>\n",
              "        <path d=\"M19 3H5c-1.1 0-2 .9-2 2v14c0 1.1.9 2 2 2h14c1.1 0 2-.9 2-2V5c0-1.1-.9-2-2-2zM9 17H7v-7h2v7zm4 0h-2V7h2v10zm4 0h-2v-4h2v4z\"/>\n",
              "    </g>\n",
              "</svg>\n",
              "  </button>\n",
              "\n",
              "<style>\n",
              "  .colab-df-quickchart {\n",
              "      --bg-color: #E8F0FE;\n",
              "      --fill-color: #1967D2;\n",
              "      --hover-bg-color: #E2EBFA;\n",
              "      --hover-fill-color: #174EA6;\n",
              "      --disabled-fill-color: #AAA;\n",
              "      --disabled-bg-color: #DDD;\n",
              "  }\n",
              "\n",
              "  [theme=dark] .colab-df-quickchart {\n",
              "      --bg-color: #3B4455;\n",
              "      --fill-color: #D2E3FC;\n",
              "      --hover-bg-color: #434B5C;\n",
              "      --hover-fill-color: #FFFFFF;\n",
              "      --disabled-bg-color: #3B4455;\n",
              "      --disabled-fill-color: #666;\n",
              "  }\n",
              "\n",
              "  .colab-df-quickchart {\n",
              "    background-color: var(--bg-color);\n",
              "    border: none;\n",
              "    border-radius: 50%;\n",
              "    cursor: pointer;\n",
              "    display: none;\n",
              "    fill: var(--fill-color);\n",
              "    height: 32px;\n",
              "    padding: 0;\n",
              "    width: 32px;\n",
              "  }\n",
              "\n",
              "  .colab-df-quickchart:hover {\n",
              "    background-color: var(--hover-bg-color);\n",
              "    box-shadow: 0 1px 2px rgba(60, 64, 67, 0.3), 0 1px 3px 1px rgba(60, 64, 67, 0.15);\n",
              "    fill: var(--button-hover-fill-color);\n",
              "  }\n",
              "\n",
              "  .colab-df-quickchart-complete:disabled,\n",
              "  .colab-df-quickchart-complete:disabled:hover {\n",
              "    background-color: var(--disabled-bg-color);\n",
              "    fill: var(--disabled-fill-color);\n",
              "    box-shadow: none;\n",
              "  }\n",
              "\n",
              "  .colab-df-spinner {\n",
              "    border: 2px solid var(--fill-color);\n",
              "    border-color: transparent;\n",
              "    border-bottom-color: var(--fill-color);\n",
              "    animation:\n",
              "      spin 1s steps(1) infinite;\n",
              "  }\n",
              "\n",
              "  @keyframes spin {\n",
              "    0% {\n",
              "      border-color: transparent;\n",
              "      border-bottom-color: var(--fill-color);\n",
              "      border-left-color: var(--fill-color);\n",
              "    }\n",
              "    20% {\n",
              "      border-color: transparent;\n",
              "      border-left-color: var(--fill-color);\n",
              "      border-top-color: var(--fill-color);\n",
              "    }\n",
              "    30% {\n",
              "      border-color: transparent;\n",
              "      border-left-color: var(--fill-color);\n",
              "      border-top-color: var(--fill-color);\n",
              "      border-right-color: var(--fill-color);\n",
              "    }\n",
              "    40% {\n",
              "      border-color: transparent;\n",
              "      border-right-color: var(--fill-color);\n",
              "      border-top-color: var(--fill-color);\n",
              "    }\n",
              "    60% {\n",
              "      border-color: transparent;\n",
              "      border-right-color: var(--fill-color);\n",
              "    }\n",
              "    80% {\n",
              "      border-color: transparent;\n",
              "      border-right-color: var(--fill-color);\n",
              "      border-bottom-color: var(--fill-color);\n",
              "    }\n",
              "    90% {\n",
              "      border-color: transparent;\n",
              "      border-bottom-color: var(--fill-color);\n",
              "    }\n",
              "  }\n",
              "</style>\n",
              "\n",
              "  <script>\n",
              "    async function quickchart(key) {\n",
              "      const quickchartButtonEl =\n",
              "        document.querySelector('#' + key + ' button');\n",
              "      quickchartButtonEl.disabled = true;  // To prevent multiple clicks.\n",
              "      quickchartButtonEl.classList.add('colab-df-spinner');\n",
              "      try {\n",
              "        const charts = await google.colab.kernel.invokeFunction(\n",
              "            'suggestCharts', [key], {});\n",
              "      } catch (error) {\n",
              "        console.error('Error during call to suggestCharts:', error);\n",
              "      }\n",
              "      quickchartButtonEl.classList.remove('colab-df-spinner');\n",
              "      quickchartButtonEl.classList.add('colab-df-quickchart-complete');\n",
              "    }\n",
              "    (() => {\n",
              "      let quickchartButtonEl =\n",
              "        document.querySelector('#df-c541b77f-32e2-422a-92a1-d41c857fde21 button');\n",
              "      quickchartButtonEl.style.display =\n",
              "        google.colab.kernel.accessAllowed ? 'block' : 'none';\n",
              "    })();\n",
              "  </script>\n",
              "</div>\n",
              "\n",
              "    </div>\n",
              "  </div>\n"
            ],
            "application/vnd.google.colaboratory.intrinsic+json": {
              "type": "dataframe",
              "variable_name": "ds",
              "summary": "{\n  \"name\": \"ds\",\n  \"rows\": 3549,\n  \"fields\": [\n    {\n      \"column\": \"Location\",\n      \"properties\": {\n        \"dtype\": \"category\",\n        \"num_unique_values\": 1,\n        \"samples\": [\n          \"United States\"\n        ],\n        \"semantic_type\": \"\",\n        \"description\": \"\"\n      }\n    },\n    {\n      \"column\": \"rating\",\n      \"properties\": {\n        \"dtype\": \"number\",\n        \"std\": 0.4744306603049464,\n        \"min\": 1.0,\n        \"max\": 5.0,\n        \"num_unique_values\": 35,\n        \"samples\": [\n          2.1\n        ],\n        \"semantic_type\": \"\",\n        \"description\": \"\"\n      }\n    },\n    {\n      \"column\": \"Job_title\",\n      \"properties\": {\n        \"dtype\": \"string\",\n        \"num_unique_values\": 1920,\n        \"samples\": [\n          \"Sr. Data Scientist - Investment Risk\"\n        ],\n        \"semantic_type\": \"\",\n        \"description\": \"\"\n      }\n    },\n    {\n      \"column\": \"Place\",\n      \"properties\": {\n        \"dtype\": \"category\",\n        \"num_unique_values\": 660,\n        \"samples\": [\n          \"Lafayette, IN\"\n        ],\n        \"semantic_type\": \"\",\n        \"description\": \"\"\n      }\n    },\n    {\n      \"column\": \"salary\",\n      \"properties\": {\n        \"dtype\": \"category\",\n        \"num_unique_values\": 1695,\n        \"samples\": [\n          \"USD\\u00a0103K - 158K\\u00a0(Glassdoor est.)\"\n        ],\n        \"semantic_type\": \"\",\n        \"description\": \"\"\n      }\n    },\n    {\n      \"column\": \"post_date\",\n      \"properties\": {\n        \"dtype\": \"category\",\n        \"num_unique_values\": 14,\n        \"samples\": [\n          \"7d\"\n        ],\n        \"semantic_type\": \"\",\n        \"description\": \"\"\n      }\n    },\n    {\n      \"column\": \"Job_description\",\n      \"properties\": {\n        \"dtype\": \"string\",\n        \"num_unique_values\": 2564,\n        \"samples\": [\n          \"Quality Assurance Administrator Job Description\\n\\nUnique opportunity to join Maryhaven, Central Ohio\\u2019s largest and most comprehensive behavioral services provider specializing in addiction recovery. We are looking for skilled, talented, and compassionate people to join our team! Maryhaven was founded on the principles of Diversity, Equity, and Inclusion in 1953, opening our doors to serve an overlooked segment of our population, women in need of substance abuse recovery services. We remain driven by our value of excellence in quality care for all and fostering a culture that embraces dignity of all. Under the direction of the Director of Quality Assurance, the Quality Assurance Administrator is responsible for driving clinical process improvement and client safety initiatives throughout the organization. Leads the development, implementation, monitoring, and maintenance of clinical quality systems and policies to ensure compliance risks are identified and mitigated. Serves as Client Rights Officer. Manages the incident reporting process and electronic reporting systems. Assists in special projects, licensing activities, accreditation processes, and regulatory compliance reviews as needed.\\n\\n\\nQuality Assurance Administrator Requirements\\n\\nBachelor degree in business, behavioral health, or a related field.\\nExperience in business analysis, healthcare quality management, performance improvement, and/or data outcomes measurement.\\nKnowledge of and experience with electronic health record and health information management applications preferred.\\nValid State of Ohio LPC, LSW, LCDC II or III required.\\n\\n\\nQuality Assurance Administrator Benefits\\n\\nSalary commensurate with experience.\\n\\nMedical, vision, and dental insurance effective on your first day!\\n\\nPaid time off (PTO) starts accruing on your first day!\\n\\n11 paid holidays.\\n\\n403(b) Retirement Savings Plan.\\n\\nFree Workforce Development and CEU's.\\n\\nTuition reimbursement.\\n\\nA well-funded and managed non-profit organization driven not by the bottom line, but by helping its customers.\\n\\nEqual Employment Opportunity (EEO).\"\n        ],\n        \"semantic_type\": \"\",\n        \"description\": \"\"\n      }\n    }\n  ]\n}"
            }
          },
          "metadata": {},
          "execution_count": 30
        }
      ]
    },
    {
      "cell_type": "code",
      "source": [
        "ds.columns"
      ],
      "metadata": {
        "colab": {
          "base_uri": "https://localhost:8080/"
        },
        "id": "L1r2vg-s-fPW",
        "outputId": "0e20e477-00b5-4370-cb57-638b67b3390a"
      },
      "execution_count": 31,
      "outputs": [
        {
          "output_type": "execute_result",
          "data": {
            "text/plain": [
              "Index(['Location', 'rating', 'Job_title', 'Place', 'salary', 'post_date',\n",
              "       'Job_description'],\n",
              "      dtype='object')"
            ]
          },
          "metadata": {},
          "execution_count": 31
        }
      ]
    },
    {
      "cell_type": "code",
      "source": [
        "ds.dtypes"
      ],
      "metadata": {
        "colab": {
          "base_uri": "https://localhost:8080/"
        },
        "id": "186rj6XYIzoX",
        "outputId": "c1226906-5ecc-4e78-be04-36a1b4d5db8c"
      },
      "execution_count": 32,
      "outputs": [
        {
          "output_type": "execute_result",
          "data": {
            "text/plain": [
              "Location            object\n",
              "rating             float64\n",
              "Job_title           object\n",
              "Place               object\n",
              "salary              object\n",
              "post_date           object\n",
              "Job_description     object\n",
              "dtype: object"
            ]
          },
          "metadata": {},
          "execution_count": 32
        }
      ]
    },
    {
      "cell_type": "markdown",
      "source": [
        "# Data Wrangling"
      ],
      "metadata": {
        "id": "YXaVR-sgzMdR"
      }
    },
    {
      "cell_type": "code",
      "source": [
        "ds.isnull().sum()"
      ],
      "metadata": {
        "colab": {
          "base_uri": "https://localhost:8080/"
        },
        "id": "Jz7YRVgCG1UF",
        "outputId": "a8ac8d12-6fec-4375-f8a2-ec6e59efa716"
      },
      "execution_count": 33,
      "outputs": [
        {
          "output_type": "execute_result",
          "data": {
            "text/plain": [
              "Location             5\n",
              "rating             366\n",
              "Job_title            5\n",
              "Place                6\n",
              "salary             449\n",
              "post_date            5\n",
              "Job_description    118\n",
              "dtype: int64"
            ]
          },
          "metadata": {},
          "execution_count": 33
        }
      ]
    },
    {
      "cell_type": "code",
      "source": [
        "ds = ds[ds['salary'].isnull()==0]"
      ],
      "metadata": {
        "id": "-gPUa55t-fnu"
      },
      "execution_count": 34,
      "outputs": []
    },
    {
      "cell_type": "code",
      "source": [
        "ds['hourly'] = ds['salary'].apply(lambda x: 1 if 'per hour' in x.lower() else 0)"
      ],
      "metadata": {
        "id": "1cBpZ2s1-VUr"
      },
      "execution_count": 35,
      "outputs": []
    },
    {
      "cell_type": "code",
      "source": [
        "ds.hourly"
      ],
      "metadata": {
        "colab": {
          "base_uri": "https://localhost:8080/"
        },
        "id": "yGH8QDae-VXk",
        "outputId": "76fa17fa-e3d7-4b66-e3a5-4781da9c35e1"
      },
      "execution_count": 36,
      "outputs": [
        {
          "output_type": "execute_result",
          "data": {
            "text/plain": [
              "0       0\n",
              "1       0\n",
              "3       0\n",
              "4       0\n",
              "5       1\n",
              "       ..\n",
              "3544    0\n",
              "3545    0\n",
              "3546    0\n",
              "3547    0\n",
              "3548    0\n",
              "Name: hourly, Length: 3100, dtype: int64"
            ]
          },
          "metadata": {},
          "execution_count": 36
        }
      ]
    },
    {
      "cell_type": "code",
      "source": [
        "employee_salary = ds['salary'].apply(lambda x: x.split('(')[0]).str.replace('K','').str.replace('USD','')\n",
        "employee_salary"
      ],
      "metadata": {
        "colab": {
          "base_uri": "https://localhost:8080/"
        },
        "id": "pMT6Qm3x-Val",
        "outputId": "e74319ca-fa49-4299-b322-009b1c6e3da6"
      },
      "execution_count": 37,
      "outputs": [
        {
          "output_type": "execute_result",
          "data": {
            "text/plain": [
              "0                     105 - 148 \n",
              "1                      95 - 120 \n",
              "3                       55 - 66 \n",
              "4                       66 - 91 \n",
              "5        25.00 - 27.00 Per Hour \n",
              "                  ...           \n",
              "3544                  111 - 142 \n",
              "3545                   85 - 105 \n",
              "3546                  175 - 225 \n",
              "3547                    54 - 81 \n",
              "3548                  101 - 132 \n",
              "Name: salary, Length: 3100, dtype: object"
            ]
          },
          "metadata": {},
          "execution_count": 37
        }
      ]
    },
    {
      "cell_type": "code",
      "source": [
        "ds['min_hr'] = employee_salary.apply(lambda x: x.lower().replace('per hour',''))\n",
        "ds.min_hr"
      ],
      "metadata": {
        "colab": {
          "base_uri": "https://localhost:8080/"
        },
        "id": "IO0GeFagLQIT",
        "outputId": "71fef02d-9088-49ce-aaaa-0a09c28857cc"
      },
      "execution_count": 38,
      "outputs": [
        {
          "output_type": "execute_result",
          "data": {
            "text/plain": [
              "0             105 - 148 \n",
              "1              95 - 120 \n",
              "3               55 - 66 \n",
              "4               66 - 91 \n",
              "5        25.00 - 27.00  \n",
              "              ...       \n",
              "3544          111 - 142 \n",
              "3545           85 - 105 \n",
              "3546          175 - 225 \n",
              "3547            54 - 81 \n",
              "3548          101 - 132 \n",
              "Name: min_hr, Length: 3100, dtype: object"
            ]
          },
          "metadata": {},
          "execution_count": 38
        }
      ]
    },
    {
      "cell_type": "code",
      "source": [
        "ds['salary_limit'] = ds['min_hr'].apply(lambda x: x.split(\"-\"))\n",
        "ds['limit_count'] = ds['salary_limit'].apply(len)"
      ],
      "metadata": {
        "id": "478b9Q44ci7w"
      },
      "execution_count": 39,
      "outputs": []
    },
    {
      "cell_type": "code",
      "source": [
        "ds.head()"
      ],
      "metadata": {
        "colab": {
          "base_uri": "https://localhost:8080/",
          "height": 293
        },
        "id": "YxBQjkVggfzu",
        "outputId": "0e10adbc-b431-4db5-9176-cb69a08d1aed"
      },
      "execution_count": 40,
      "outputs": [
        {
          "output_type": "execute_result",
          "data": {
            "text/plain": [
              "        Location  rating                                          Job_title  \\\n",
              "0  United States     4.1                     Cloud Software & Data Engineer   \n",
              "1  United States     NaN  IT Business Analyst - Reston Virginia (not rem...   \n",
              "3  United States     4.9                            Junior Business Analyst   \n",
              "4  United States     3.2                           Banking Business Analyst   \n",
              "5  United States     4.0                            Junior Business Analyst   \n",
              "\n",
              "         Place                                      salary post_date  \\\n",
              "0  Houston, TX            USD 105K - 148K (Glassdoor est.)        3d   \n",
              "1   Reston, VA              USD 95K - 120K (Employer est.)       24h   \n",
              "3    Omaha, NE               USD 55K - 66K (Employer est.)       24h   \n",
              "4  Atlanta, GA              USD 66K - 91K (Glassdoor est.)       24h   \n",
              "5  Ashburn, VA  USD 25.00 - 27.00 Per Hour (Employer est.)       24h   \n",
              "\n",
              "                                     Job_description  hourly  \\\n",
              "0  Job Description\\n\\nA Cloud Software & Data Eng...       0   \n",
              "1  IT Business Analyst\\n\\nJOB SUMMARY\\n\\nThe IT B...       0   \n",
              "3  MUST HAVE: LOOKING FOR A STRONG BUSINESS ANALY...       0   \n",
              "4  Infosys is seeking Banking Business Analyst wi...       0   \n",
              "5  Job description:\\n\\nPerform requirement elicit...       1   \n",
              "\n",
              "             min_hr         salary_limit  limit_count  \n",
              "0        105 - 148        [ 105 ,  148 ]            2  \n",
              "1         95 - 120         [ 95 ,  120 ]            2  \n",
              "3          55 - 66          [ 55 ,  66 ]            2  \n",
              "4          66 - 91          [ 66 ,  91 ]            2  \n",
              "5   25.00 - 27.00    [ 25.00 ,  27.00  ]            2  "
            ],
            "text/html": [
              "\n",
              "  <div id=\"df-8f945e20-9f26-44aa-a2aa-526b366a2906\" class=\"colab-df-container\">\n",
              "    <div>\n",
              "<style scoped>\n",
              "    .dataframe tbody tr th:only-of-type {\n",
              "        vertical-align: middle;\n",
              "    }\n",
              "\n",
              "    .dataframe tbody tr th {\n",
              "        vertical-align: top;\n",
              "    }\n",
              "\n",
              "    .dataframe thead th {\n",
              "        text-align: right;\n",
              "    }\n",
              "</style>\n",
              "<table border=\"1\" class=\"dataframe\">\n",
              "  <thead>\n",
              "    <tr style=\"text-align: right;\">\n",
              "      <th></th>\n",
              "      <th>Location</th>\n",
              "      <th>rating</th>\n",
              "      <th>Job_title</th>\n",
              "      <th>Place</th>\n",
              "      <th>salary</th>\n",
              "      <th>post_date</th>\n",
              "      <th>Job_description</th>\n",
              "      <th>hourly</th>\n",
              "      <th>min_hr</th>\n",
              "      <th>salary_limit</th>\n",
              "      <th>limit_count</th>\n",
              "    </tr>\n",
              "  </thead>\n",
              "  <tbody>\n",
              "    <tr>\n",
              "      <th>0</th>\n",
              "      <td>United States</td>\n",
              "      <td>4.1</td>\n",
              "      <td>Cloud Software &amp; Data Engineer</td>\n",
              "      <td>Houston, TX</td>\n",
              "      <td>USD 105K - 148K (Glassdoor est.)</td>\n",
              "      <td>3d</td>\n",
              "      <td>Job Description\\n\\nA Cloud Software &amp; Data Eng...</td>\n",
              "      <td>0</td>\n",
              "      <td>105 - 148</td>\n",
              "      <td>[ 105 ,  148 ]</td>\n",
              "      <td>2</td>\n",
              "    </tr>\n",
              "    <tr>\n",
              "      <th>1</th>\n",
              "      <td>United States</td>\n",
              "      <td>NaN</td>\n",
              "      <td>IT Business Analyst - Reston Virginia (not rem...</td>\n",
              "      <td>Reston, VA</td>\n",
              "      <td>USD 95K - 120K (Employer est.)</td>\n",
              "      <td>24h</td>\n",
              "      <td>IT Business Analyst\\n\\nJOB SUMMARY\\n\\nThe IT B...</td>\n",
              "      <td>0</td>\n",
              "      <td>95 - 120</td>\n",
              "      <td>[ 95 ,  120 ]</td>\n",
              "      <td>2</td>\n",
              "    </tr>\n",
              "    <tr>\n",
              "      <th>3</th>\n",
              "      <td>United States</td>\n",
              "      <td>4.9</td>\n",
              "      <td>Junior Business Analyst</td>\n",
              "      <td>Omaha, NE</td>\n",
              "      <td>USD 55K - 66K (Employer est.)</td>\n",
              "      <td>24h</td>\n",
              "      <td>MUST HAVE: LOOKING FOR A STRONG BUSINESS ANALY...</td>\n",
              "      <td>0</td>\n",
              "      <td>55 - 66</td>\n",
              "      <td>[ 55 ,  66 ]</td>\n",
              "      <td>2</td>\n",
              "    </tr>\n",
              "    <tr>\n",
              "      <th>4</th>\n",
              "      <td>United States</td>\n",
              "      <td>3.2</td>\n",
              "      <td>Banking Business Analyst</td>\n",
              "      <td>Atlanta, GA</td>\n",
              "      <td>USD 66K - 91K (Glassdoor est.)</td>\n",
              "      <td>24h</td>\n",
              "      <td>Infosys is seeking Banking Business Analyst wi...</td>\n",
              "      <td>0</td>\n",
              "      <td>66 - 91</td>\n",
              "      <td>[ 66 ,  91 ]</td>\n",
              "      <td>2</td>\n",
              "    </tr>\n",
              "    <tr>\n",
              "      <th>5</th>\n",
              "      <td>United States</td>\n",
              "      <td>4.0</td>\n",
              "      <td>Junior Business Analyst</td>\n",
              "      <td>Ashburn, VA</td>\n",
              "      <td>USD 25.00 - 27.00 Per Hour (Employer est.)</td>\n",
              "      <td>24h</td>\n",
              "      <td>Job description:\\n\\nPerform requirement elicit...</td>\n",
              "      <td>1</td>\n",
              "      <td>25.00 - 27.00</td>\n",
              "      <td>[ 25.00 ,  27.00  ]</td>\n",
              "      <td>2</td>\n",
              "    </tr>\n",
              "  </tbody>\n",
              "</table>\n",
              "</div>\n",
              "    <div class=\"colab-df-buttons\">\n",
              "\n",
              "  <div class=\"colab-df-container\">\n",
              "    <button class=\"colab-df-convert\" onclick=\"convertToInteractive('df-8f945e20-9f26-44aa-a2aa-526b366a2906')\"\n",
              "            title=\"Convert this dataframe to an interactive table.\"\n",
              "            style=\"display:none;\">\n",
              "\n",
              "  <svg xmlns=\"http://www.w3.org/2000/svg\" height=\"24px\" viewBox=\"0 -960 960 960\">\n",
              "    <path d=\"M120-120v-720h720v720H120Zm60-500h600v-160H180v160Zm220 220h160v-160H400v160Zm0 220h160v-160H400v160ZM180-400h160v-160H180v160Zm440 0h160v-160H620v160ZM180-180h160v-160H180v160Zm440 0h160v-160H620v160Z\"/>\n",
              "  </svg>\n",
              "    </button>\n",
              "\n",
              "  <style>\n",
              "    .colab-df-container {\n",
              "      display:flex;\n",
              "      gap: 12px;\n",
              "    }\n",
              "\n",
              "    .colab-df-convert {\n",
              "      background-color: #E8F0FE;\n",
              "      border: none;\n",
              "      border-radius: 50%;\n",
              "      cursor: pointer;\n",
              "      display: none;\n",
              "      fill: #1967D2;\n",
              "      height: 32px;\n",
              "      padding: 0 0 0 0;\n",
              "      width: 32px;\n",
              "    }\n",
              "\n",
              "    .colab-df-convert:hover {\n",
              "      background-color: #E2EBFA;\n",
              "      box-shadow: 0px 1px 2px rgba(60, 64, 67, 0.3), 0px 1px 3px 1px rgba(60, 64, 67, 0.15);\n",
              "      fill: #174EA6;\n",
              "    }\n",
              "\n",
              "    .colab-df-buttons div {\n",
              "      margin-bottom: 4px;\n",
              "    }\n",
              "\n",
              "    [theme=dark] .colab-df-convert {\n",
              "      background-color: #3B4455;\n",
              "      fill: #D2E3FC;\n",
              "    }\n",
              "\n",
              "    [theme=dark] .colab-df-convert:hover {\n",
              "      background-color: #434B5C;\n",
              "      box-shadow: 0px 1px 3px 1px rgba(0, 0, 0, 0.15);\n",
              "      filter: drop-shadow(0px 1px 2px rgba(0, 0, 0, 0.3));\n",
              "      fill: #FFFFFF;\n",
              "    }\n",
              "  </style>\n",
              "\n",
              "    <script>\n",
              "      const buttonEl =\n",
              "        document.querySelector('#df-8f945e20-9f26-44aa-a2aa-526b366a2906 button.colab-df-convert');\n",
              "      buttonEl.style.display =\n",
              "        google.colab.kernel.accessAllowed ? 'block' : 'none';\n",
              "\n",
              "      async function convertToInteractive(key) {\n",
              "        const element = document.querySelector('#df-8f945e20-9f26-44aa-a2aa-526b366a2906');\n",
              "        const dataTable =\n",
              "          await google.colab.kernel.invokeFunction('convertToInteractive',\n",
              "                                                    [key], {});\n",
              "        if (!dataTable) return;\n",
              "\n",
              "        const docLinkHtml = 'Like what you see? Visit the ' +\n",
              "          '<a target=\"_blank\" href=https://colab.research.google.com/notebooks/data_table.ipynb>data table notebook</a>'\n",
              "          + ' to learn more about interactive tables.';\n",
              "        element.innerHTML = '';\n",
              "        dataTable['output_type'] = 'display_data';\n",
              "        await google.colab.output.renderOutput(dataTable, element);\n",
              "        const docLink = document.createElement('div');\n",
              "        docLink.innerHTML = docLinkHtml;\n",
              "        element.appendChild(docLink);\n",
              "      }\n",
              "    </script>\n",
              "  </div>\n",
              "\n",
              "\n",
              "<div id=\"df-a80293ef-d464-4e8d-9d4e-7b4027158408\">\n",
              "  <button class=\"colab-df-quickchart\" onclick=\"quickchart('df-a80293ef-d464-4e8d-9d4e-7b4027158408')\"\n",
              "            title=\"Suggest charts\"\n",
              "            style=\"display:none;\">\n",
              "\n",
              "<svg xmlns=\"http://www.w3.org/2000/svg\" height=\"24px\"viewBox=\"0 0 24 24\"\n",
              "     width=\"24px\">\n",
              "    <g>\n",
              "        <path d=\"M19 3H5c-1.1 0-2 .9-2 2v14c0 1.1.9 2 2 2h14c1.1 0 2-.9 2-2V5c0-1.1-.9-2-2-2zM9 17H7v-7h2v7zm4 0h-2V7h2v10zm4 0h-2v-4h2v4z\"/>\n",
              "    </g>\n",
              "</svg>\n",
              "  </button>\n",
              "\n",
              "<style>\n",
              "  .colab-df-quickchart {\n",
              "      --bg-color: #E8F0FE;\n",
              "      --fill-color: #1967D2;\n",
              "      --hover-bg-color: #E2EBFA;\n",
              "      --hover-fill-color: #174EA6;\n",
              "      --disabled-fill-color: #AAA;\n",
              "      --disabled-bg-color: #DDD;\n",
              "  }\n",
              "\n",
              "  [theme=dark] .colab-df-quickchart {\n",
              "      --bg-color: #3B4455;\n",
              "      --fill-color: #D2E3FC;\n",
              "      --hover-bg-color: #434B5C;\n",
              "      --hover-fill-color: #FFFFFF;\n",
              "      --disabled-bg-color: #3B4455;\n",
              "      --disabled-fill-color: #666;\n",
              "  }\n",
              "\n",
              "  .colab-df-quickchart {\n",
              "    background-color: var(--bg-color);\n",
              "    border: none;\n",
              "    border-radius: 50%;\n",
              "    cursor: pointer;\n",
              "    display: none;\n",
              "    fill: var(--fill-color);\n",
              "    height: 32px;\n",
              "    padding: 0;\n",
              "    width: 32px;\n",
              "  }\n",
              "\n",
              "  .colab-df-quickchart:hover {\n",
              "    background-color: var(--hover-bg-color);\n",
              "    box-shadow: 0 1px 2px rgba(60, 64, 67, 0.3), 0 1px 3px 1px rgba(60, 64, 67, 0.15);\n",
              "    fill: var(--button-hover-fill-color);\n",
              "  }\n",
              "\n",
              "  .colab-df-quickchart-complete:disabled,\n",
              "  .colab-df-quickchart-complete:disabled:hover {\n",
              "    background-color: var(--disabled-bg-color);\n",
              "    fill: var(--disabled-fill-color);\n",
              "    box-shadow: none;\n",
              "  }\n",
              "\n",
              "  .colab-df-spinner {\n",
              "    border: 2px solid var(--fill-color);\n",
              "    border-color: transparent;\n",
              "    border-bottom-color: var(--fill-color);\n",
              "    animation:\n",
              "      spin 1s steps(1) infinite;\n",
              "  }\n",
              "\n",
              "  @keyframes spin {\n",
              "    0% {\n",
              "      border-color: transparent;\n",
              "      border-bottom-color: var(--fill-color);\n",
              "      border-left-color: var(--fill-color);\n",
              "    }\n",
              "    20% {\n",
              "      border-color: transparent;\n",
              "      border-left-color: var(--fill-color);\n",
              "      border-top-color: var(--fill-color);\n",
              "    }\n",
              "    30% {\n",
              "      border-color: transparent;\n",
              "      border-left-color: var(--fill-color);\n",
              "      border-top-color: var(--fill-color);\n",
              "      border-right-color: var(--fill-color);\n",
              "    }\n",
              "    40% {\n",
              "      border-color: transparent;\n",
              "      border-right-color: var(--fill-color);\n",
              "      border-top-color: var(--fill-color);\n",
              "    }\n",
              "    60% {\n",
              "      border-color: transparent;\n",
              "      border-right-color: var(--fill-color);\n",
              "    }\n",
              "    80% {\n",
              "      border-color: transparent;\n",
              "      border-right-color: var(--fill-color);\n",
              "      border-bottom-color: var(--fill-color);\n",
              "    }\n",
              "    90% {\n",
              "      border-color: transparent;\n",
              "      border-bottom-color: var(--fill-color);\n",
              "    }\n",
              "  }\n",
              "</style>\n",
              "\n",
              "  <script>\n",
              "    async function quickchart(key) {\n",
              "      const quickchartButtonEl =\n",
              "        document.querySelector('#' + key + ' button');\n",
              "      quickchartButtonEl.disabled = true;  // To prevent multiple clicks.\n",
              "      quickchartButtonEl.classList.add('colab-df-spinner');\n",
              "      try {\n",
              "        const charts = await google.colab.kernel.invokeFunction(\n",
              "            'suggestCharts', [key], {});\n",
              "      } catch (error) {\n",
              "        console.error('Error during call to suggestCharts:', error);\n",
              "      }\n",
              "      quickchartButtonEl.classList.remove('colab-df-spinner');\n",
              "      quickchartButtonEl.classList.add('colab-df-quickchart-complete');\n",
              "    }\n",
              "    (() => {\n",
              "      let quickchartButtonEl =\n",
              "        document.querySelector('#df-a80293ef-d464-4e8d-9d4e-7b4027158408 button');\n",
              "      quickchartButtonEl.style.display =\n",
              "        google.colab.kernel.accessAllowed ? 'block' : 'none';\n",
              "    })();\n",
              "  </script>\n",
              "</div>\n",
              "\n",
              "    </div>\n",
              "  </div>\n"
            ],
            "application/vnd.google.colaboratory.intrinsic+json": {
              "type": "dataframe",
              "variable_name": "ds",
              "summary": "{\n  \"name\": \"ds\",\n  \"rows\": 3100,\n  \"fields\": [\n    {\n      \"column\": \"Location\",\n      \"properties\": {\n        \"dtype\": \"category\",\n        \"num_unique_values\": 1,\n        \"samples\": [\n          \"United States\"\n        ],\n        \"semantic_type\": \"\",\n        \"description\": \"\"\n      }\n    },\n    {\n      \"column\": \"rating\",\n      \"properties\": {\n        \"dtype\": \"number\",\n        \"std\": 0.4787896418525055,\n        \"min\": 1.0,\n        \"max\": 5.0,\n        \"num_unique_values\": 34,\n        \"samples\": [\n          3.7\n        ],\n        \"semantic_type\": \"\",\n        \"description\": \"\"\n      }\n    },\n    {\n      \"column\": \"Job_title\",\n      \"properties\": {\n        \"dtype\": \"string\",\n        \"num_unique_values\": 1688,\n        \"samples\": [\n          \"Business Systems Analyst Senior\"\n        ],\n        \"semantic_type\": \"\",\n        \"description\": \"\"\n      }\n    },\n    {\n      \"column\": \"Place\",\n      \"properties\": {\n        \"dtype\": \"category\",\n        \"num_unique_values\": 627,\n        \"samples\": [\n          \"Anchorage, AK\"\n        ],\n        \"semantic_type\": \"\",\n        \"description\": \"\"\n      }\n    },\n    {\n      \"column\": \"salary\",\n      \"properties\": {\n        \"dtype\": \"string\",\n        \"num_unique_values\": 1695,\n        \"samples\": [\n          \"USD\\u00a0103K - 158K\\u00a0(Glassdoor est.)\"\n        ],\n        \"semantic_type\": \"\",\n        \"description\": \"\"\n      }\n    },\n    {\n      \"column\": \"post_date\",\n      \"properties\": {\n        \"dtype\": \"category\",\n        \"num_unique_values\": 13,\n        \"samples\": [\n          \"9d\"\n        ],\n        \"semantic_type\": \"\",\n        \"description\": \"\"\n      }\n    },\n    {\n      \"column\": \"Job_description\",\n      \"properties\": {\n        \"dtype\": \"string\",\n        \"num_unique_values\": 2239,\n        \"samples\": [\n          \"Duties: Parexel International LLC seeks a Senior Principal Statistical Programmer based in Newton, MA to perform statistical analysis, statistical programming, and quality control of derived statistical data for clinical trials in FDA 21 CFR Part 11 regulated environment. Produce clinical trial statistical reports and integrated clinical reports for complex Phase I-III clinical studies. Write statistical programs to analyze clinical trial data. Produce derived statistical datasets and both simple and advanced statistical tables, figures, and data listings using efficient statistical programming and analysis techniques. Mentor and train junior statistical programmers. Assist in production of derived dataset specifications and process support documentation. Perform quality control of derived datasets, simple tables, and data listings from other departments. Apply FDA regulatory requirements to statistical analysis and methods. Provide SAS and technical training to internal clients. Create standard macros and statistical applications to improve efficiencies. Ensure compliance with WSOP guidelines and ICH-GCP guidelines and participate in audits and regulatory inspections. Apply regulatory requirements and industry standards for CDISC, 21 CFR 11, and electronic submissions. Build structured datasets for clinical studies. Position may telecommute from anywhere in the U.S. up to 5 days per week.\\n\\nRequirements: Employer will accept Bachelor\\u2019s degree in Statistics, Mathematics, Pharmaceutical Science, or a related field and 5 progressive years of statistical programming experience. Experience must include 5 years of experience with each of the following:\\n\\nFDA 21 CFR Part 11 regulations; ICH-GCP, CDISC, and WSOP guidelines; Phase I, II, and III clinical trials; SAS/BASE, SAS/STAT, SAS/SQL, SAS/MACRO, SAS Data Step, Proc Step, and Functions; generating reports, tables, and listings for statisticians; and building structured, CDISC, SDTM, or ADaM databases for clinical studies.\\n\\nTo apply, please send resume to openings@parexel.com and cite requisition number 00948, or apply at jobs.parexel.com. This notice is subject to Parexel International LLC's employee referral program.\\n\\nEEO Disclaimer\\n\\nParexel is an equal opportunity employer. Qualified applicants will receive consideration for employment without regard to legally protected status, which in the United States includes race, color, religion, sex, sexual orientation, gender identity, national origin, disability, or protected veteran status.\\n\\n\\n\\nBack to nav\"\n        ],\n        \"semantic_type\": \"\",\n        \"description\": \"\"\n      }\n    },\n    {\n      \"column\": \"hourly\",\n      \"properties\": {\n        \"dtype\": \"number\",\n        \"std\": 0,\n        \"min\": 0,\n        \"max\": 1,\n        \"num_unique_values\": 2,\n        \"samples\": [\n          1\n        ],\n        \"semantic_type\": \"\",\n        \"description\": \"\"\n      }\n    },\n    {\n      \"column\": \"min_hr\",\n      \"properties\": {\n        \"dtype\": \"string\",\n        \"num_unique_values\": 1651,\n        \"samples\": [\n          \"\\u00a063 - 78\\u00a0\"\n        ],\n        \"semantic_type\": \"\",\n        \"description\": \"\"\n      }\n    },\n    {\n      \"column\": \"salary_limit\",\n      \"properties\": {\n        \"dtype\": \"object\",\n        \"semantic_type\": \"\",\n        \"description\": \"\"\n      }\n    },\n    {\n      \"column\": \"limit_count\",\n      \"properties\": {\n        \"dtype\": \"number\",\n        \"std\": 0,\n        \"min\": 1,\n        \"max\": 2,\n        \"num_unique_values\": 2,\n        \"samples\": [\n          1\n        ],\n        \"semantic_type\": \"\",\n        \"description\": \"\"\n      }\n    }\n  ]\n}"
            }
          },
          "metadata": {},
          "execution_count": 40
        }
      ]
    },
    {
      "cell_type": "markdown",
      "source": [
        "# Extracting Minimum and Maximum Salary"
      ],
      "metadata": {
        "id": "_tEqfIGYzyJ1"
      }
    },
    {
      "cell_type": "code",
      "source": [
        "ds['min_salary'] = ds.apply(lambda x: float(x.min_hr.split('-')[0]) if x.limit_count ==2 else x.salary_limit[0],axis=1).astype(float)\n",
        "ds['max_salary'] = ds.apply(lambda x: float(x.min_hr.split('-')[1]) if x.limit_count ==2 else x.salary_limit[0],axis=1).astype(float)\n",
        "ds['min_salary'] = ds.apply(lambda x: x.min_salary*2 if x.hourly ==1 and  x.limit_count ==2 else x.min_salary, axis =1)\n",
        "ds['max_salary'] = ds.apply(lambda x: x.max_salary*2 if x.hourly ==1 and  x.limit_count ==2 else x.max_salary, axis =1)\n",
        "\n",
        "ds['average_salary'] = (ds.min_salary+ds.max_salary)/2"
      ],
      "metadata": {
        "id": "bFhe1Qc3LdMd"
      },
      "execution_count": 41,
      "outputs": []
    },
    {
      "cell_type": "code",
      "source": [
        "ds.head()"
      ],
      "metadata": {
        "colab": {
          "base_uri": "https://localhost:8080/",
          "height": 310
        },
        "id": "eDkof2_xLdRP",
        "outputId": "47caa35c-d6aa-4144-ccb5-6e560183dfa3"
      },
      "execution_count": 42,
      "outputs": [
        {
          "output_type": "execute_result",
          "data": {
            "text/plain": [
              "        Location  rating                                          Job_title  \\\n",
              "0  United States     4.1                     Cloud Software & Data Engineer   \n",
              "1  United States     NaN  IT Business Analyst - Reston Virginia (not rem...   \n",
              "3  United States     4.9                            Junior Business Analyst   \n",
              "4  United States     3.2                           Banking Business Analyst   \n",
              "5  United States     4.0                            Junior Business Analyst   \n",
              "\n",
              "         Place                                      salary post_date  \\\n",
              "0  Houston, TX            USD 105K - 148K (Glassdoor est.)        3d   \n",
              "1   Reston, VA              USD 95K - 120K (Employer est.)       24h   \n",
              "3    Omaha, NE               USD 55K - 66K (Employer est.)       24h   \n",
              "4  Atlanta, GA              USD 66K - 91K (Glassdoor est.)       24h   \n",
              "5  Ashburn, VA  USD 25.00 - 27.00 Per Hour (Employer est.)       24h   \n",
              "\n",
              "                                     Job_description  hourly  \\\n",
              "0  Job Description\\n\\nA Cloud Software & Data Eng...       0   \n",
              "1  IT Business Analyst\\n\\nJOB SUMMARY\\n\\nThe IT B...       0   \n",
              "3  MUST HAVE: LOOKING FOR A STRONG BUSINESS ANALY...       0   \n",
              "4  Infosys is seeking Banking Business Analyst wi...       0   \n",
              "5  Job description:\\n\\nPerform requirement elicit...       1   \n",
              "\n",
              "             min_hr         salary_limit  limit_count  min_salary  max_salary  \\\n",
              "0        105 - 148        [ 105 ,  148 ]            2       105.0       148.0   \n",
              "1         95 - 120         [ 95 ,  120 ]            2        95.0       120.0   \n",
              "3          55 - 66          [ 55 ,  66 ]            2        55.0        66.0   \n",
              "4          66 - 91          [ 66 ,  91 ]            2        66.0        91.0   \n",
              "5   25.00 - 27.00    [ 25.00 ,  27.00  ]            2        50.0        54.0   \n",
              "\n",
              "   average_salary  \n",
              "0           126.5  \n",
              "1           107.5  \n",
              "3            60.5  \n",
              "4            78.5  \n",
              "5            52.0  "
            ],
            "text/html": [
              "\n",
              "  <div id=\"df-1b3e1385-eae9-4f98-a46e-f634f19ddb0f\" class=\"colab-df-container\">\n",
              "    <div>\n",
              "<style scoped>\n",
              "    .dataframe tbody tr th:only-of-type {\n",
              "        vertical-align: middle;\n",
              "    }\n",
              "\n",
              "    .dataframe tbody tr th {\n",
              "        vertical-align: top;\n",
              "    }\n",
              "\n",
              "    .dataframe thead th {\n",
              "        text-align: right;\n",
              "    }\n",
              "</style>\n",
              "<table border=\"1\" class=\"dataframe\">\n",
              "  <thead>\n",
              "    <tr style=\"text-align: right;\">\n",
              "      <th></th>\n",
              "      <th>Location</th>\n",
              "      <th>rating</th>\n",
              "      <th>Job_title</th>\n",
              "      <th>Place</th>\n",
              "      <th>salary</th>\n",
              "      <th>post_date</th>\n",
              "      <th>Job_description</th>\n",
              "      <th>hourly</th>\n",
              "      <th>min_hr</th>\n",
              "      <th>salary_limit</th>\n",
              "      <th>limit_count</th>\n",
              "      <th>min_salary</th>\n",
              "      <th>max_salary</th>\n",
              "      <th>average_salary</th>\n",
              "    </tr>\n",
              "  </thead>\n",
              "  <tbody>\n",
              "    <tr>\n",
              "      <th>0</th>\n",
              "      <td>United States</td>\n",
              "      <td>4.1</td>\n",
              "      <td>Cloud Software &amp; Data Engineer</td>\n",
              "      <td>Houston, TX</td>\n",
              "      <td>USD 105K - 148K (Glassdoor est.)</td>\n",
              "      <td>3d</td>\n",
              "      <td>Job Description\\n\\nA Cloud Software &amp; Data Eng...</td>\n",
              "      <td>0</td>\n",
              "      <td>105 - 148</td>\n",
              "      <td>[ 105 ,  148 ]</td>\n",
              "      <td>2</td>\n",
              "      <td>105.0</td>\n",
              "      <td>148.0</td>\n",
              "      <td>126.5</td>\n",
              "    </tr>\n",
              "    <tr>\n",
              "      <th>1</th>\n",
              "      <td>United States</td>\n",
              "      <td>NaN</td>\n",
              "      <td>IT Business Analyst - Reston Virginia (not rem...</td>\n",
              "      <td>Reston, VA</td>\n",
              "      <td>USD 95K - 120K (Employer est.)</td>\n",
              "      <td>24h</td>\n",
              "      <td>IT Business Analyst\\n\\nJOB SUMMARY\\n\\nThe IT B...</td>\n",
              "      <td>0</td>\n",
              "      <td>95 - 120</td>\n",
              "      <td>[ 95 ,  120 ]</td>\n",
              "      <td>2</td>\n",
              "      <td>95.0</td>\n",
              "      <td>120.0</td>\n",
              "      <td>107.5</td>\n",
              "    </tr>\n",
              "    <tr>\n",
              "      <th>3</th>\n",
              "      <td>United States</td>\n",
              "      <td>4.9</td>\n",
              "      <td>Junior Business Analyst</td>\n",
              "      <td>Omaha, NE</td>\n",
              "      <td>USD 55K - 66K (Employer est.)</td>\n",
              "      <td>24h</td>\n",
              "      <td>MUST HAVE: LOOKING FOR A STRONG BUSINESS ANALY...</td>\n",
              "      <td>0</td>\n",
              "      <td>55 - 66</td>\n",
              "      <td>[ 55 ,  66 ]</td>\n",
              "      <td>2</td>\n",
              "      <td>55.0</td>\n",
              "      <td>66.0</td>\n",
              "      <td>60.5</td>\n",
              "    </tr>\n",
              "    <tr>\n",
              "      <th>4</th>\n",
              "      <td>United States</td>\n",
              "      <td>3.2</td>\n",
              "      <td>Banking Business Analyst</td>\n",
              "      <td>Atlanta, GA</td>\n",
              "      <td>USD 66K - 91K (Glassdoor est.)</td>\n",
              "      <td>24h</td>\n",
              "      <td>Infosys is seeking Banking Business Analyst wi...</td>\n",
              "      <td>0</td>\n",
              "      <td>66 - 91</td>\n",
              "      <td>[ 66 ,  91 ]</td>\n",
              "      <td>2</td>\n",
              "      <td>66.0</td>\n",
              "      <td>91.0</td>\n",
              "      <td>78.5</td>\n",
              "    </tr>\n",
              "    <tr>\n",
              "      <th>5</th>\n",
              "      <td>United States</td>\n",
              "      <td>4.0</td>\n",
              "      <td>Junior Business Analyst</td>\n",
              "      <td>Ashburn, VA</td>\n",
              "      <td>USD 25.00 - 27.00 Per Hour (Employer est.)</td>\n",
              "      <td>24h</td>\n",
              "      <td>Job description:\\n\\nPerform requirement elicit...</td>\n",
              "      <td>1</td>\n",
              "      <td>25.00 - 27.00</td>\n",
              "      <td>[ 25.00 ,  27.00  ]</td>\n",
              "      <td>2</td>\n",
              "      <td>50.0</td>\n",
              "      <td>54.0</td>\n",
              "      <td>52.0</td>\n",
              "    </tr>\n",
              "  </tbody>\n",
              "</table>\n",
              "</div>\n",
              "    <div class=\"colab-df-buttons\">\n",
              "\n",
              "  <div class=\"colab-df-container\">\n",
              "    <button class=\"colab-df-convert\" onclick=\"convertToInteractive('df-1b3e1385-eae9-4f98-a46e-f634f19ddb0f')\"\n",
              "            title=\"Convert this dataframe to an interactive table.\"\n",
              "            style=\"display:none;\">\n",
              "\n",
              "  <svg xmlns=\"http://www.w3.org/2000/svg\" height=\"24px\" viewBox=\"0 -960 960 960\">\n",
              "    <path d=\"M120-120v-720h720v720H120Zm60-500h600v-160H180v160Zm220 220h160v-160H400v160Zm0 220h160v-160H400v160ZM180-400h160v-160H180v160Zm440 0h160v-160H620v160ZM180-180h160v-160H180v160Zm440 0h160v-160H620v160Z\"/>\n",
              "  </svg>\n",
              "    </button>\n",
              "\n",
              "  <style>\n",
              "    .colab-df-container {\n",
              "      display:flex;\n",
              "      gap: 12px;\n",
              "    }\n",
              "\n",
              "    .colab-df-convert {\n",
              "      background-color: #E8F0FE;\n",
              "      border: none;\n",
              "      border-radius: 50%;\n",
              "      cursor: pointer;\n",
              "      display: none;\n",
              "      fill: #1967D2;\n",
              "      height: 32px;\n",
              "      padding: 0 0 0 0;\n",
              "      width: 32px;\n",
              "    }\n",
              "\n",
              "    .colab-df-convert:hover {\n",
              "      background-color: #E2EBFA;\n",
              "      box-shadow: 0px 1px 2px rgba(60, 64, 67, 0.3), 0px 1px 3px 1px rgba(60, 64, 67, 0.15);\n",
              "      fill: #174EA6;\n",
              "    }\n",
              "\n",
              "    .colab-df-buttons div {\n",
              "      margin-bottom: 4px;\n",
              "    }\n",
              "\n",
              "    [theme=dark] .colab-df-convert {\n",
              "      background-color: #3B4455;\n",
              "      fill: #D2E3FC;\n",
              "    }\n",
              "\n",
              "    [theme=dark] .colab-df-convert:hover {\n",
              "      background-color: #434B5C;\n",
              "      box-shadow: 0px 1px 3px 1px rgba(0, 0, 0, 0.15);\n",
              "      filter: drop-shadow(0px 1px 2px rgba(0, 0, 0, 0.3));\n",
              "      fill: #FFFFFF;\n",
              "    }\n",
              "  </style>\n",
              "\n",
              "    <script>\n",
              "      const buttonEl =\n",
              "        document.querySelector('#df-1b3e1385-eae9-4f98-a46e-f634f19ddb0f button.colab-df-convert');\n",
              "      buttonEl.style.display =\n",
              "        google.colab.kernel.accessAllowed ? 'block' : 'none';\n",
              "\n",
              "      async function convertToInteractive(key) {\n",
              "        const element = document.querySelector('#df-1b3e1385-eae9-4f98-a46e-f634f19ddb0f');\n",
              "        const dataTable =\n",
              "          await google.colab.kernel.invokeFunction('convertToInteractive',\n",
              "                                                    [key], {});\n",
              "        if (!dataTable) return;\n",
              "\n",
              "        const docLinkHtml = 'Like what you see? Visit the ' +\n",
              "          '<a target=\"_blank\" href=https://colab.research.google.com/notebooks/data_table.ipynb>data table notebook</a>'\n",
              "          + ' to learn more about interactive tables.';\n",
              "        element.innerHTML = '';\n",
              "        dataTable['output_type'] = 'display_data';\n",
              "        await google.colab.output.renderOutput(dataTable, element);\n",
              "        const docLink = document.createElement('div');\n",
              "        docLink.innerHTML = docLinkHtml;\n",
              "        element.appendChild(docLink);\n",
              "      }\n",
              "    </script>\n",
              "  </div>\n",
              "\n",
              "\n",
              "<div id=\"df-f7625a80-5057-44ef-a844-7af116bbe693\">\n",
              "  <button class=\"colab-df-quickchart\" onclick=\"quickchart('df-f7625a80-5057-44ef-a844-7af116bbe693')\"\n",
              "            title=\"Suggest charts\"\n",
              "            style=\"display:none;\">\n",
              "\n",
              "<svg xmlns=\"http://www.w3.org/2000/svg\" height=\"24px\"viewBox=\"0 0 24 24\"\n",
              "     width=\"24px\">\n",
              "    <g>\n",
              "        <path d=\"M19 3H5c-1.1 0-2 .9-2 2v14c0 1.1.9 2 2 2h14c1.1 0 2-.9 2-2V5c0-1.1-.9-2-2-2zM9 17H7v-7h2v7zm4 0h-2V7h2v10zm4 0h-2v-4h2v4z\"/>\n",
              "    </g>\n",
              "</svg>\n",
              "  </button>\n",
              "\n",
              "<style>\n",
              "  .colab-df-quickchart {\n",
              "      --bg-color: #E8F0FE;\n",
              "      --fill-color: #1967D2;\n",
              "      --hover-bg-color: #E2EBFA;\n",
              "      --hover-fill-color: #174EA6;\n",
              "      --disabled-fill-color: #AAA;\n",
              "      --disabled-bg-color: #DDD;\n",
              "  }\n",
              "\n",
              "  [theme=dark] .colab-df-quickchart {\n",
              "      --bg-color: #3B4455;\n",
              "      --fill-color: #D2E3FC;\n",
              "      --hover-bg-color: #434B5C;\n",
              "      --hover-fill-color: #FFFFFF;\n",
              "      --disabled-bg-color: #3B4455;\n",
              "      --disabled-fill-color: #666;\n",
              "  }\n",
              "\n",
              "  .colab-df-quickchart {\n",
              "    background-color: var(--bg-color);\n",
              "    border: none;\n",
              "    border-radius: 50%;\n",
              "    cursor: pointer;\n",
              "    display: none;\n",
              "    fill: var(--fill-color);\n",
              "    height: 32px;\n",
              "    padding: 0;\n",
              "    width: 32px;\n",
              "  }\n",
              "\n",
              "  .colab-df-quickchart:hover {\n",
              "    background-color: var(--hover-bg-color);\n",
              "    box-shadow: 0 1px 2px rgba(60, 64, 67, 0.3), 0 1px 3px 1px rgba(60, 64, 67, 0.15);\n",
              "    fill: var(--button-hover-fill-color);\n",
              "  }\n",
              "\n",
              "  .colab-df-quickchart-complete:disabled,\n",
              "  .colab-df-quickchart-complete:disabled:hover {\n",
              "    background-color: var(--disabled-bg-color);\n",
              "    fill: var(--disabled-fill-color);\n",
              "    box-shadow: none;\n",
              "  }\n",
              "\n",
              "  .colab-df-spinner {\n",
              "    border: 2px solid var(--fill-color);\n",
              "    border-color: transparent;\n",
              "    border-bottom-color: var(--fill-color);\n",
              "    animation:\n",
              "      spin 1s steps(1) infinite;\n",
              "  }\n",
              "\n",
              "  @keyframes spin {\n",
              "    0% {\n",
              "      border-color: transparent;\n",
              "      border-bottom-color: var(--fill-color);\n",
              "      border-left-color: var(--fill-color);\n",
              "    }\n",
              "    20% {\n",
              "      border-color: transparent;\n",
              "      border-left-color: var(--fill-color);\n",
              "      border-top-color: var(--fill-color);\n",
              "    }\n",
              "    30% {\n",
              "      border-color: transparent;\n",
              "      border-left-color: var(--fill-color);\n",
              "      border-top-color: var(--fill-color);\n",
              "      border-right-color: var(--fill-color);\n",
              "    }\n",
              "    40% {\n",
              "      border-color: transparent;\n",
              "      border-right-color: var(--fill-color);\n",
              "      border-top-color: var(--fill-color);\n",
              "    }\n",
              "    60% {\n",
              "      border-color: transparent;\n",
              "      border-right-color: var(--fill-color);\n",
              "    }\n",
              "    80% {\n",
              "      border-color: transparent;\n",
              "      border-right-color: var(--fill-color);\n",
              "      border-bottom-color: var(--fill-color);\n",
              "    }\n",
              "    90% {\n",
              "      border-color: transparent;\n",
              "      border-bottom-color: var(--fill-color);\n",
              "    }\n",
              "  }\n",
              "</style>\n",
              "\n",
              "  <script>\n",
              "    async function quickchart(key) {\n",
              "      const quickchartButtonEl =\n",
              "        document.querySelector('#' + key + ' button');\n",
              "      quickchartButtonEl.disabled = true;  // To prevent multiple clicks.\n",
              "      quickchartButtonEl.classList.add('colab-df-spinner');\n",
              "      try {\n",
              "        const charts = await google.colab.kernel.invokeFunction(\n",
              "            'suggestCharts', [key], {});\n",
              "      } catch (error) {\n",
              "        console.error('Error during call to suggestCharts:', error);\n",
              "      }\n",
              "      quickchartButtonEl.classList.remove('colab-df-spinner');\n",
              "      quickchartButtonEl.classList.add('colab-df-quickchart-complete');\n",
              "    }\n",
              "    (() => {\n",
              "      let quickchartButtonEl =\n",
              "        document.querySelector('#df-f7625a80-5057-44ef-a844-7af116bbe693 button');\n",
              "      quickchartButtonEl.style.display =\n",
              "        google.colab.kernel.accessAllowed ? 'block' : 'none';\n",
              "    })();\n",
              "  </script>\n",
              "</div>\n",
              "\n",
              "    </div>\n",
              "  </div>\n"
            ],
            "application/vnd.google.colaboratory.intrinsic+json": {
              "type": "dataframe",
              "variable_name": "ds",
              "summary": "{\n  \"name\": \"ds\",\n  \"rows\": 3100,\n  \"fields\": [\n    {\n      \"column\": \"Location\",\n      \"properties\": {\n        \"dtype\": \"category\",\n        \"num_unique_values\": 1,\n        \"samples\": [\n          \"United States\"\n        ],\n        \"semantic_type\": \"\",\n        \"description\": \"\"\n      }\n    },\n    {\n      \"column\": \"rating\",\n      \"properties\": {\n        \"dtype\": \"number\",\n        \"std\": 0.4787896418525055,\n        \"min\": 1.0,\n        \"max\": 5.0,\n        \"num_unique_values\": 34,\n        \"samples\": [\n          3.7\n        ],\n        \"semantic_type\": \"\",\n        \"description\": \"\"\n      }\n    },\n    {\n      \"column\": \"Job_title\",\n      \"properties\": {\n        \"dtype\": \"string\",\n        \"num_unique_values\": 1688,\n        \"samples\": [\n          \"Business Systems Analyst Senior\"\n        ],\n        \"semantic_type\": \"\",\n        \"description\": \"\"\n      }\n    },\n    {\n      \"column\": \"Place\",\n      \"properties\": {\n        \"dtype\": \"category\",\n        \"num_unique_values\": 627,\n        \"samples\": [\n          \"Anchorage, AK\"\n        ],\n        \"semantic_type\": \"\",\n        \"description\": \"\"\n      }\n    },\n    {\n      \"column\": \"salary\",\n      \"properties\": {\n        \"dtype\": \"string\",\n        \"num_unique_values\": 1695,\n        \"samples\": [\n          \"USD\\u00a0103K - 158K\\u00a0(Glassdoor est.)\"\n        ],\n        \"semantic_type\": \"\",\n        \"description\": \"\"\n      }\n    },\n    {\n      \"column\": \"post_date\",\n      \"properties\": {\n        \"dtype\": \"category\",\n        \"num_unique_values\": 13,\n        \"samples\": [\n          \"9d\"\n        ],\n        \"semantic_type\": \"\",\n        \"description\": \"\"\n      }\n    },\n    {\n      \"column\": \"Job_description\",\n      \"properties\": {\n        \"dtype\": \"string\",\n        \"num_unique_values\": 2239,\n        \"samples\": [\n          \"Duties: Parexel International LLC seeks a Senior Principal Statistical Programmer based in Newton, MA to perform statistical analysis, statistical programming, and quality control of derived statistical data for clinical trials in FDA 21 CFR Part 11 regulated environment. Produce clinical trial statistical reports and integrated clinical reports for complex Phase I-III clinical studies. Write statistical programs to analyze clinical trial data. Produce derived statistical datasets and both simple and advanced statistical tables, figures, and data listings using efficient statistical programming and analysis techniques. Mentor and train junior statistical programmers. Assist in production of derived dataset specifications and process support documentation. Perform quality control of derived datasets, simple tables, and data listings from other departments. Apply FDA regulatory requirements to statistical analysis and methods. Provide SAS and technical training to internal clients. Create standard macros and statistical applications to improve efficiencies. Ensure compliance with WSOP guidelines and ICH-GCP guidelines and participate in audits and regulatory inspections. Apply regulatory requirements and industry standards for CDISC, 21 CFR 11, and electronic submissions. Build structured datasets for clinical studies. Position may telecommute from anywhere in the U.S. up to 5 days per week.\\n\\nRequirements: Employer will accept Bachelor\\u2019s degree in Statistics, Mathematics, Pharmaceutical Science, or a related field and 5 progressive years of statistical programming experience. Experience must include 5 years of experience with each of the following:\\n\\nFDA 21 CFR Part 11 regulations; ICH-GCP, CDISC, and WSOP guidelines; Phase I, II, and III clinical trials; SAS/BASE, SAS/STAT, SAS/SQL, SAS/MACRO, SAS Data Step, Proc Step, and Functions; generating reports, tables, and listings for statisticians; and building structured, CDISC, SDTM, or ADaM databases for clinical studies.\\n\\nTo apply, please send resume to openings@parexel.com and cite requisition number 00948, or apply at jobs.parexel.com. This notice is subject to Parexel International LLC's employee referral program.\\n\\nEEO Disclaimer\\n\\nParexel is an equal opportunity employer. Qualified applicants will receive consideration for employment without regard to legally protected status, which in the United States includes race, color, religion, sex, sexual orientation, gender identity, national origin, disability, or protected veteran status.\\n\\n\\n\\nBack to nav\"\n        ],\n        \"semantic_type\": \"\",\n        \"description\": \"\"\n      }\n    },\n    {\n      \"column\": \"hourly\",\n      \"properties\": {\n        \"dtype\": \"number\",\n        \"std\": 0,\n        \"min\": 0,\n        \"max\": 1,\n        \"num_unique_values\": 2,\n        \"samples\": [\n          1\n        ],\n        \"semantic_type\": \"\",\n        \"description\": \"\"\n      }\n    },\n    {\n      \"column\": \"min_hr\",\n      \"properties\": {\n        \"dtype\": \"string\",\n        \"num_unique_values\": 1651,\n        \"samples\": [\n          \"\\u00a063 - 78\\u00a0\"\n        ],\n        \"semantic_type\": \"\",\n        \"description\": \"\"\n      }\n    },\n    {\n      \"column\": \"salary_limit\",\n      \"properties\": {\n        \"dtype\": \"object\",\n        \"semantic_type\": \"\",\n        \"description\": \"\"\n      }\n    },\n    {\n      \"column\": \"limit_count\",\n      \"properties\": {\n        \"dtype\": \"number\",\n        \"std\": 0,\n        \"min\": 1,\n        \"max\": 2,\n        \"num_unique_values\": 2,\n        \"samples\": [\n          1\n        ],\n        \"semantic_type\": \"\",\n        \"description\": \"\"\n      }\n    },\n    {\n      \"column\": \"min_salary\",\n      \"properties\": {\n        \"dtype\": \"number\",\n        \"std\": 35.76680826287385,\n        \"min\": 4.0,\n        \"max\": 250.0,\n        \"num_unique_values\": 243,\n        \"samples\": [\n          115.0\n        ],\n        \"semantic_type\": \"\",\n        \"description\": \"\"\n      }\n    },\n    {\n      \"column\": \"max_salary\",\n      \"properties\": {\n        \"dtype\": \"number\",\n        \"std\": 55.78082969104633,\n        \"min\": 6.0,\n        \"max\": 800.0,\n        \"num_unique_values\": 314,\n        \"samples\": [\n          181.0\n        ],\n        \"semantic_type\": \"\",\n        \"description\": \"\"\n      }\n    },\n    {\n      \"column\": \"average_salary\",\n      \"properties\": {\n        \"dtype\": \"number\",\n        \"std\": 43.908111304383446,\n        \"min\": 5.0,\n        \"max\": 475.0,\n        \"num_unique_values\": 426,\n        \"samples\": [\n          232.5\n        ],\n        \"semantic_type\": \"\",\n        \"description\": \"\"\n      }\n    }\n  ]\n}"
            }
          },
          "metadata": {},
          "execution_count": 42
        }
      ]
    },
    {
      "cell_type": "markdown",
      "source": [
        "# Place of Job"
      ],
      "metadata": {
        "id": "PGAJg6_OzIhF"
      }
    },
    {
      "cell_type": "code",
      "source": [
        "ds.columns"
      ],
      "metadata": {
        "colab": {
          "base_uri": "https://localhost:8080/"
        },
        "id": "2ISqDJR1zMDn",
        "outputId": "ab4b2090-b39c-4319-8734-c5c00155e456"
      },
      "execution_count": 43,
      "outputs": [
        {
          "output_type": "execute_result",
          "data": {
            "text/plain": [
              "Index(['Location', 'rating', 'Job_title', 'Place', 'salary', 'post_date',\n",
              "       'Job_description', 'hourly', 'min_hr', 'salary_limit', 'limit_count',\n",
              "       'min_salary', 'max_salary', 'average_salary'],\n",
              "      dtype='object')"
            ]
          },
          "metadata": {},
          "execution_count": 43
        }
      ]
    },
    {
      "cell_type": "code",
      "source": [
        "ds['Place'] = ds['Place'].astype(str)\n",
        "ds['place_var'] = ds['Place'].apply(lambda x: x.split(','))\n",
        "ds['place_limit'] = ds['place_var'].apply(len)\n",
        "ds['place_limit']"
      ],
      "metadata": {
        "colab": {
          "base_uri": "https://localhost:8080/"
        },
        "id": "Nn0plQa_0KaY",
        "outputId": "287548cc-dede-417c-a805-7d68034d12e8"
      },
      "execution_count": 44,
      "outputs": [
        {
          "output_type": "execute_result",
          "data": {
            "text/plain": [
              "0       2\n",
              "1       2\n",
              "3       2\n",
              "4       2\n",
              "5       2\n",
              "       ..\n",
              "3544    2\n",
              "3545    2\n",
              "3546    2\n",
              "3547    2\n",
              "3548    2\n",
              "Name: place_limit, Length: 3100, dtype: int64"
            ]
          },
          "metadata": {},
          "execution_count": 44
        }
      ]
    },
    {
      "cell_type": "code",
      "source": [
        "ds['State'] = ds.apply(lambda x: x.Place.split(',')[1] if x.place_limit ==2 else x.Place[0:],axis=1)\n",
        "ds['City'] = ds.apply(lambda x: x.Place.split(',')[0], axis=1) #if x.place_limit ==2 else x.Place[0],axis=1)\n",
        "ds = ds[(ds['Place'] !='United States') & (ds['Place'] !='nan')]\n"
      ],
      "metadata": {
        "id": "xJw77TpJZIGW"
      },
      "execution_count": 45,
      "outputs": []
    },
    {
      "cell_type": "code",
      "source": [
        "ds['City'].head()"
      ],
      "metadata": {
        "colab": {
          "base_uri": "https://localhost:8080/"
        },
        "id": "x0sgnnucZII6",
        "outputId": "4169dd44-cb99-4082-e419-0231f564390f"
      },
      "execution_count": 46,
      "outputs": [
        {
          "output_type": "execute_result",
          "data": {
            "text/plain": [
              "0    Houston\n",
              "1     Reston\n",
              "3      Omaha\n",
              "4    Atlanta\n",
              "5    Ashburn\n",
              "Name: City, dtype: object"
            ]
          },
          "metadata": {},
          "execution_count": 46
        }
      ]
    },
    {
      "cell_type": "code",
      "source": [
        "ds[ds.Place== 'nan']"
      ],
      "metadata": {
        "colab": {
          "base_uri": "https://localhost:8080/",
          "height": 53
        },
        "id": "JU-duemEC0Pa",
        "outputId": "f9444bd2-4b52-41c7-b4f0-055776622052"
      },
      "execution_count": 47,
      "outputs": [
        {
          "output_type": "execute_result",
          "data": {
            "text/plain": [
              "Empty DataFrame\n",
              "Columns: [Location, rating, Job_title, Place, salary, post_date, Job_description, hourly, min_hr, salary_limit, limit_count, min_salary, max_salary, average_salary, place_var, place_limit, State, City]\n",
              "Index: []"
            ],
            "text/html": [
              "\n",
              "  <div id=\"df-a53b80ff-6da4-4e5a-bec7-e02f45731fa5\" class=\"colab-df-container\">\n",
              "    <div>\n",
              "<style scoped>\n",
              "    .dataframe tbody tr th:only-of-type {\n",
              "        vertical-align: middle;\n",
              "    }\n",
              "\n",
              "    .dataframe tbody tr th {\n",
              "        vertical-align: top;\n",
              "    }\n",
              "\n",
              "    .dataframe thead th {\n",
              "        text-align: right;\n",
              "    }\n",
              "</style>\n",
              "<table border=\"1\" class=\"dataframe\">\n",
              "  <thead>\n",
              "    <tr style=\"text-align: right;\">\n",
              "      <th></th>\n",
              "      <th>Location</th>\n",
              "      <th>rating</th>\n",
              "      <th>Job_title</th>\n",
              "      <th>Place</th>\n",
              "      <th>salary</th>\n",
              "      <th>post_date</th>\n",
              "      <th>Job_description</th>\n",
              "      <th>hourly</th>\n",
              "      <th>min_hr</th>\n",
              "      <th>salary_limit</th>\n",
              "      <th>limit_count</th>\n",
              "      <th>min_salary</th>\n",
              "      <th>max_salary</th>\n",
              "      <th>average_salary</th>\n",
              "      <th>place_var</th>\n",
              "      <th>place_limit</th>\n",
              "      <th>State</th>\n",
              "      <th>City</th>\n",
              "    </tr>\n",
              "  </thead>\n",
              "  <tbody>\n",
              "  </tbody>\n",
              "</table>\n",
              "</div>\n",
              "    <div class=\"colab-df-buttons\">\n",
              "\n",
              "  <div class=\"colab-df-container\">\n",
              "    <button class=\"colab-df-convert\" onclick=\"convertToInteractive('df-a53b80ff-6da4-4e5a-bec7-e02f45731fa5')\"\n",
              "            title=\"Convert this dataframe to an interactive table.\"\n",
              "            style=\"display:none;\">\n",
              "\n",
              "  <svg xmlns=\"http://www.w3.org/2000/svg\" height=\"24px\" viewBox=\"0 -960 960 960\">\n",
              "    <path d=\"M120-120v-720h720v720H120Zm60-500h600v-160H180v160Zm220 220h160v-160H400v160Zm0 220h160v-160H400v160ZM180-400h160v-160H180v160Zm440 0h160v-160H620v160ZM180-180h160v-160H180v160Zm440 0h160v-160H620v160Z\"/>\n",
              "  </svg>\n",
              "    </button>\n",
              "\n",
              "  <style>\n",
              "    .colab-df-container {\n",
              "      display:flex;\n",
              "      gap: 12px;\n",
              "    }\n",
              "\n",
              "    .colab-df-convert {\n",
              "      background-color: #E8F0FE;\n",
              "      border: none;\n",
              "      border-radius: 50%;\n",
              "      cursor: pointer;\n",
              "      display: none;\n",
              "      fill: #1967D2;\n",
              "      height: 32px;\n",
              "      padding: 0 0 0 0;\n",
              "      width: 32px;\n",
              "    }\n",
              "\n",
              "    .colab-df-convert:hover {\n",
              "      background-color: #E2EBFA;\n",
              "      box-shadow: 0px 1px 2px rgba(60, 64, 67, 0.3), 0px 1px 3px 1px rgba(60, 64, 67, 0.15);\n",
              "      fill: #174EA6;\n",
              "    }\n",
              "\n",
              "    .colab-df-buttons div {\n",
              "      margin-bottom: 4px;\n",
              "    }\n",
              "\n",
              "    [theme=dark] .colab-df-convert {\n",
              "      background-color: #3B4455;\n",
              "      fill: #D2E3FC;\n",
              "    }\n",
              "\n",
              "    [theme=dark] .colab-df-convert:hover {\n",
              "      background-color: #434B5C;\n",
              "      box-shadow: 0px 1px 3px 1px rgba(0, 0, 0, 0.15);\n",
              "      filter: drop-shadow(0px 1px 2px rgba(0, 0, 0, 0.3));\n",
              "      fill: #FFFFFF;\n",
              "    }\n",
              "  </style>\n",
              "\n",
              "    <script>\n",
              "      const buttonEl =\n",
              "        document.querySelector('#df-a53b80ff-6da4-4e5a-bec7-e02f45731fa5 button.colab-df-convert');\n",
              "      buttonEl.style.display =\n",
              "        google.colab.kernel.accessAllowed ? 'block' : 'none';\n",
              "\n",
              "      async function convertToInteractive(key) {\n",
              "        const element = document.querySelector('#df-a53b80ff-6da4-4e5a-bec7-e02f45731fa5');\n",
              "        const dataTable =\n",
              "          await google.colab.kernel.invokeFunction('convertToInteractive',\n",
              "                                                    [key], {});\n",
              "        if (!dataTable) return;\n",
              "\n",
              "        const docLinkHtml = 'Like what you see? Visit the ' +\n",
              "          '<a target=\"_blank\" href=https://colab.research.google.com/notebooks/data_table.ipynb>data table notebook</a>'\n",
              "          + ' to learn more about interactive tables.';\n",
              "        element.innerHTML = '';\n",
              "        dataTable['output_type'] = 'display_data';\n",
              "        await google.colab.output.renderOutput(dataTable, element);\n",
              "        const docLink = document.createElement('div');\n",
              "        docLink.innerHTML = docLinkHtml;\n",
              "        element.appendChild(docLink);\n",
              "      }\n",
              "    </script>\n",
              "  </div>\n",
              "\n",
              "\n",
              "    </div>\n",
              "  </div>\n"
            ],
            "application/vnd.google.colaboratory.intrinsic+json": {
              "type": "dataframe",
              "repr_error": "Out of range float values are not JSON compliant: nan"
            }
          },
          "metadata": {},
          "execution_count": 47
        }
      ]
    },
    {
      "cell_type": "markdown",
      "source": [
        "# Function to Correct State Codes In some States"
      ],
      "metadata": {
        "id": "Ig56XBCKdcRv"
      }
    },
    {
      "cell_type": "code",
      "source": [
        "def state_code(codes):\n",
        "  if 'pennsylvania' in codes.lower():\n",
        "        return 'PA'\n",
        "  elif 'minnesota' in codes.lower():\n",
        "    return 'MN'\n",
        "  elif 'maryland' in codes.lower():\n",
        "    return 'MD'\n",
        "  elif 'alabama' in codes.lower():\n",
        "    return 'AL'\n",
        "  elif  'california' in codes.lower():\n",
        "    return 'CA'\n",
        "  elif 'new york state' in codes.lower():\n",
        "        return 'NY'\n",
        "  elif 'arizona' in codes.lower():\n",
        "    return 'AZ'\n",
        "  elif 'ridgefield park, bergen, nj' in codes.lower():\n",
        "    return 'NJ'\n",
        "  elif 'kansas' in codes.lower():\n",
        "    return 'KS'\n",
        "  elif  'indiana' in codes.lower():\n",
        "    return 'IN'\n",
        "  elif 'new jersey' in codes.lower():\n",
        "        return 'NJ'\n",
        "  elif 'massachusetts' in codes.lower():\n",
        "    return 'MA'\n",
        "  elif 'michigan' in codes.lower():\n",
        "    return 'MI'\n",
        "  elif 'dallas-fort worth' in codes.lower():\n",
        "    return 'TX'\n",
        "  elif  'georgia' in codes.lower():\n",
        "    return 'GA'\n",
        "  elif 'north carolina' in codes.lower():\n",
        "        return 'NC'\n",
        "  elif 'colonial park, dauphin, pa' in codes.lower():\n",
        "    return 'PA'\n",
        "  elif 'manhattan' in codes.lower():\n",
        "    return 'NY'\n",
        "  elif 'wisconsin' in codes.lower():\n",
        "    return 'WI'\n",
        "  elif  'iowa' in codes.lower():\n",
        "    return 'IA'\n",
        "  elif 'connecticut' in codes.lower():\n",
        "    return 'NJ'\n",
        "  elif 'st. james' in codes.lower():\n",
        "    return 'NY'\n",
        "  elif  'colorado' in codes.lower():\n",
        "    return 'CO'\n",
        "  elif  'ohio' in codes.lower():\n",
        "    return 'OH'\n",
        "  elif  'remote' in codes.lower():\n",
        "    return 'Remote Location'\n"
      ],
      "metadata": {
        "id": "WwhwCH-lzMGM"
      },
      "execution_count": 48,
      "outputs": []
    },
    {
      "cell_type": "code",
      "source": [
        "ds['Place_vars'] = ds.apply(lambda x: x.Place.split(','),axis=1)\n",
        "#ds.head()"
      ],
      "metadata": {
        "id": "FsDjVUr-UK-4"
      },
      "execution_count": 49,
      "outputs": []
    },
    {
      "cell_type": "code",
      "source": [
        "ds['Place_count'] = ds['Place_vars'].apply(len)\n",
        "ds['State'] = ds.apply(lambda x: state_code(x['City']) if x.Place_count <2 else x.State,axis=1)"
      ],
      "metadata": {
        "id": "Zdy-MhtjOWaf"
      },
      "execution_count": 50,
      "outputs": []
    },
    {
      "cell_type": "code",
      "source": [
        "ds['State'] = ds['State'].str.replace('Ridgefield Park, Bergen, NJ', 'NJ')\n",
        "ds['State'] = ds['State'].str.replace('Colonial Park, Dauphin, PA', 'PA')"
      ],
      "metadata": {
        "id": "ac1OT2NQYxwq"
      },
      "execution_count": 51,
      "outputs": []
    },
    {
      "cell_type": "markdown",
      "source": [
        "# Rating"
      ],
      "metadata": {
        "id": "DTSl1Tje2I_B"
      }
    },
    {
      "cell_type": "code",
      "source": [
        "ds['rating'].value_counts()"
      ],
      "metadata": {
        "colab": {
          "base_uri": "https://localhost:8080/"
        },
        "id": "pE-gUBzg2H7K",
        "outputId": "f96433cf-4b3d-4263-dd04-d4cc49653c0a"
      },
      "execution_count": 52,
      "outputs": [
        {
          "output_type": "execute_result",
          "data": {
            "text/plain": [
              "3.9    291\n",
              "3.8    256\n",
              "3.7    255\n",
              "4.0    225\n",
              "4.2    218\n",
              "3.6    211\n",
              "4.1    200\n",
              "3.4    162\n",
              "3.5    124\n",
              "4.3    113\n",
              "3.3     77\n",
              "3.2     70\n",
              "4.4     64\n",
              "3.1     61\n",
              "4.5     57\n",
              "5.0     39\n",
              "4.6     38\n",
              "4.7     31\n",
              "3.0     29\n",
              "2.9     26\n",
              "2.8     22\n",
              "4.8     18\n",
              "4.9     15\n",
              "2.7     13\n",
              "2.6     12\n",
              "2.5      8\n",
              "2.4      7\n",
              "2.1      5\n",
              "2.0      3\n",
              "1.7      3\n",
              "1.0      3\n",
              "2.3      2\n",
              "1.5      2\n",
              "1.9      1\n",
              "Name: rating, dtype: int64"
            ]
          },
          "metadata": {},
          "execution_count": 52
        }
      ]
    },
    {
      "cell_type": "code",
      "source": [
        "ds['rating'].hist()"
      ],
      "metadata": {
        "colab": {
          "base_uri": "https://localhost:8080/",
          "height": 447
        },
        "id": "prZc9Xh30H_O",
        "outputId": "e80f9494-7f32-4b36-86bb-a3deeb8de4ba"
      },
      "execution_count": 53,
      "outputs": [
        {
          "output_type": "execute_result",
          "data": {
            "text/plain": [
              "<Axes: >"
            ]
          },
          "metadata": {},
          "execution_count": 53
        },
        {
          "output_type": "display_data",
          "data": {
            "text/plain": [
              "<Figure size 640x480 with 1 Axes>"
            ],
            "image/png": "[encoded data removed]"
          },
          "metadata": {}
        }
      ]
    },
    {
      "cell_type": "markdown",
      "source": [
        "# User Defined Functions"
      ],
      "metadata": {
        "id": "9xtSwaRo4uDd"
      }
    },
    {
      "cell_type": "code",
      "source": [
        "def job_title(title):\n",
        "    if 'data scientist' in title.lower():\n",
        "        return 'data scientist'\n",
        "    elif 'data engineer' in title.lower():\n",
        "        return 'data engineer'\n",
        "    elif 'analyst' in title.lower():\n",
        "        return 'analyst'\n",
        "    elif 'machine learning' in title.lower():\n",
        "        return 'mle'\n",
        "    elif 'manager' in title.lower():\n",
        "        return 'manager'\n",
        "    elif 'director' in title.lower():\n",
        "        return 'director'\n",
        "    elif 'business analyst' in title.lower():\n",
        "        return 'business analyst'\n",
        "    elif 'statistician' in title.lower():\n",
        "      return 'statistician'\n",
        "\n",
        "    else:\n",
        "        return 'others'"
      ],
      "metadata": {
        "id": "uZKhHMmw2H95"
      },
      "execution_count": 54,
      "outputs": []
    },
    {
      "cell_type": "code",
      "source": [
        "ds['Title'] = ds['Job_title'].apply(job_title)"
      ],
      "metadata": {
        "id": "_TW-H2Ho5zPP"
      },
      "execution_count": 55,
      "outputs": []
    },
    {
      "cell_type": "code",
      "source": [
        "ds['Title'].value_counts()"
      ],
      "metadata": {
        "colab": {
          "base_uri": "https://localhost:8080/"
        },
        "id": "d2qJK3B85zSC",
        "outputId": "98f04d5c-43ae-46e2-975f-b61d8d900f8e"
      },
      "execution_count": 56,
      "outputs": [
        {
          "output_type": "execute_result",
          "data": {
            "text/plain": [
              "analyst           1563\n",
              "others             549\n",
              "data engineer      395\n",
              "data scientist     165\n",
              "manager            111\n",
              "mle                103\n",
              "director            42\n",
              "statistician        22\n",
              "Name: Title, dtype: int64"
            ]
          },
          "metadata": {},
          "execution_count": 56
        }
      ]
    },
    {
      "cell_type": "code",
      "source": [],
      "metadata": {
        "id": "ObFjV25H8kOy"
      },
      "execution_count": 56,
      "outputs": []
    },
    {
      "cell_type": "code",
      "source": [
        "def rank(rnk):\n",
        "    if 'sr' in rnk.lower() or 'senior' in rnk.lower() or 'sr' in rnk.lower() or 'lead' in rnk.lower() or 'principal' in rnk.lower():\n",
        "            return 'senior'\n",
        "    elif 'jr' in rnk.lower() or 'jr.' in rnk.lower():\n",
        "        return 'jr'\n",
        "    else:\n",
        "        return 'na'"
      ],
      "metadata": {
        "id": "0LTQrCnM48Ut"
      },
      "execution_count": 57,
      "outputs": []
    },
    {
      "cell_type": "code",
      "source": [
        "ds['Rank'] = ds['Job_title'].apply(rank)"
      ],
      "metadata": {
        "id": "QCzxsgBM48Zq"
      },
      "execution_count": 58,
      "outputs": []
    },
    {
      "cell_type": "code",
      "source": [
        "ds['Rank'].value_counts()"
      ],
      "metadata": {
        "colab": {
          "base_uri": "https://localhost:8080/"
        },
        "id": "7wMHUXLY9w9v",
        "outputId": "c9950189-f95a-4d09-918a-5588135721b6"
      },
      "execution_count": 59,
      "outputs": [
        {
          "output_type": "execute_result",
          "data": {
            "text/plain": [
              "na        2111\n",
              "senior     830\n",
              "jr           9\n",
              "Name: Rank, dtype: int64"
            ]
          },
          "metadata": {},
          "execution_count": 59
        }
      ]
    },
    {
      "cell_type": "code",
      "source": [
        "ds['Job_Type'] = ds['Place'].apply(lambda x: 'Remote job' if 'remote' in x.lower() else 'Others')"
      ],
      "metadata": {
        "id": "2pP_obAlTmJS"
      },
      "execution_count": 60,
      "outputs": []
    },
    {
      "cell_type": "code",
      "source": [
        "ds['Job_Type']"
      ],
      "metadata": {
        "colab": {
          "base_uri": "https://localhost:8080/"
        },
        "id": "iwlUwf1KUCc3",
        "outputId": "45c6cde1-c6e0-44da-df3b-e87e330bd211"
      },
      "execution_count": 61,
      "outputs": [
        {
          "output_type": "execute_result",
          "data": {
            "text/plain": [
              "0       Others\n",
              "1       Others\n",
              "3       Others\n",
              "4       Others\n",
              "5       Others\n",
              "         ...  \n",
              "3544    Others\n",
              "3545    Others\n",
              "3546    Others\n",
              "3547    Others\n",
              "3548    Others\n",
              "Name: Job_Type, Length: 2950, dtype: object"
            ]
          },
          "metadata": {},
          "execution_count": 61
        }
      ]
    },
    {
      "cell_type": "code",
      "source": [
        "ds['Job_description'] = ds['Job_description'].astype(str)"
      ],
      "metadata": {
        "id": "BrPe2Rj0T4y-"
      },
      "execution_count": 62,
      "outputs": []
    },
    {
      "cell_type": "code",
      "source": [
        "#  Job description length\n",
        "ds['desc_len'] = ds['Job_description'].apply(lambda x: len(x))\n",
        "ds['desc_len'].head(10)"
      ],
      "metadata": {
        "colab": {
          "base_uri": "https://localhost:8080/"
        },
        "id": "vzrpwkMfUCgL",
        "outputId": "1b2e9fd2-3e5c-49b4-c3db-0445a7d39f9c"
      },
      "execution_count": 63,
      "outputs": [
        {
          "output_type": "execute_result",
          "data": {
            "text/plain": [
              "0     11563\n",
              "1      9047\n",
              "3      1405\n",
              "4      3332\n",
              "5      1458\n",
              "6      5016\n",
              "7      4470\n",
              "8      1086\n",
              "9      3340\n",
              "11     2731\n",
              "Name: desc_len, dtype: int64"
            ]
          },
          "metadata": {},
          "execution_count": 63
        }
      ]
    },
    {
      "cell_type": "code",
      "source": [],
      "metadata": {
        "id": "BEAWsrgklbWj"
      },
      "execution_count": 63,
      "outputs": []
    },
    {
      "cell_type": "code",
      "source": [],
      "metadata": {
        "id": "b3TK4KtIlbZp"
      },
      "execution_count": 63,
      "outputs": []
    },
    {
      "cell_type": "markdown",
      "source": [
        "# Search For Tools/Skill Set in Job Description"
      ],
      "metadata": {
        "id": "rJJ4rfTia1vc"
      }
    },
    {
      "cell_type": "code",
      "source": [
        "#python\n",
        "ds['python'] = ds['Job_description'].apply(lambda x: 1 if 'python' in x.lower() else 0)\n",
        "ds.python.value_counts()"
      ],
      "metadata": {
        "colab": {
          "base_uri": "https://localhost:8080/"
        },
        "id": "H_vbN7BHbiQ6",
        "outputId": "97a0a0a9-217a-4f8c-9812-a50e9eb5841e"
      },
      "execution_count": 64,
      "outputs": [
        {
          "output_type": "execute_result",
          "data": {
            "text/plain": [
              "0    2041\n",
              "1     909\n",
              "Name: python, dtype: int64"
            ]
          },
          "metadata": {},
          "execution_count": 64
        }
      ]
    },
    {
      "cell_type": "code",
      "source": [
        "# SQL\n",
        "ds['SQL'] = ds['Job_description'].apply(lambda x: 1 if 'sql' in x.lower() or 'sequel' in x.lower() else 0)\n",
        "ds.SQL.value_counts()"
      ],
      "metadata": {
        "colab": {
          "base_uri": "https://localhost:8080/"
        },
        "id": "ks4288XLltRy",
        "outputId": "596389a6-99f1-40c3-8d2a-9b1d30b3fe49"
      },
      "execution_count": 65,
      "outputs": [
        {
          "output_type": "execute_result",
          "data": {
            "text/plain": [
              "0    1824\n",
              "1    1126\n",
              "Name: SQL, dtype: int64"
            ]
          },
          "metadata": {},
          "execution_count": 65
        }
      ]
    },
    {
      "cell_type": "code",
      "source": [
        "# SAS\n",
        "ds['SAS'] = ds['Job_description'].apply(lambda x: 1 if 'sas' in x.lower() else 0)\n",
        "ds.SAS.value_counts()"
      ],
      "metadata": {
        "colab": {
          "base_uri": "https://localhost:8080/"
        },
        "id": "FGUczA29t0cB",
        "outputId": "5c066af0-22c0-4b27-91e9-957ed13844b5"
      },
      "execution_count": 66,
      "outputs": [
        {
          "output_type": "execute_result",
          "data": {
            "text/plain": [
              "0    2706\n",
              "1     244\n",
              "Name: SAS, dtype: int64"
            ]
          },
          "metadata": {},
          "execution_count": 66
        }
      ]
    },
    {
      "cell_type": "code",
      "source": [
        "# MATLAB\n",
        "ds['MATLAB'] = ds['Job_description'].apply(lambda x: 1 if 'matlab' in x.lower() else 0)\n",
        "ds.MATLAB.value_counts()"
      ],
      "metadata": {
        "colab": {
          "base_uri": "https://localhost:8080/"
        },
        "id": "MTh4jM9zt0e2",
        "outputId": "2493b19e-6d00-497e-e9df-d236aeb542ab"
      },
      "execution_count": 67,
      "outputs": [
        {
          "output_type": "execute_result",
          "data": {
            "text/plain": [
              "0    2911\n",
              "1      39\n",
              "Name: MATLAB, dtype: int64"
            ]
          },
          "metadata": {},
          "execution_count": 67
        }
      ]
    },
    {
      "cell_type": "code",
      "source": [
        "# Power BI\n",
        "ds['Power_BI'] = ds['Job_description'].apply(lambda x: 1 if 'power bi' in x.lower() else 0)\n",
        "ds.Power_BI.value_counts()"
      ],
      "metadata": {
        "colab": {
          "base_uri": "https://localhost:8080/"
        },
        "id": "XdTDUkuot0iJ",
        "outputId": "980f6027-aff2-43cd-d227-49255ccc4137"
      },
      "execution_count": 68,
      "outputs": [
        {
          "output_type": "execute_result",
          "data": {
            "text/plain": [
              "0    2605\n",
              "1     345\n",
              "Name: Power_BI, dtype: int64"
            ]
          },
          "metadata": {},
          "execution_count": 68
        }
      ]
    },
    {
      "cell_type": "code",
      "source": [
        "# DataRobot\n",
        "ds['DataRobot'] = ds['Job_description'].apply(lambda x: 1 if 'datarobot' in x.lower() else 0)\n",
        "ds.DataRobot.value_counts()"
      ],
      "metadata": {
        "colab": {
          "base_uri": "https://localhost:8080/"
        },
        "id": "iYF_3zKht0oV",
        "outputId": "7a05f6ad-c470-481d-f204-5cdf521152d4"
      },
      "execution_count": 69,
      "outputs": [
        {
          "output_type": "execute_result",
          "data": {
            "text/plain": [
              "0    2950\n",
              "Name: DataRobot, dtype: int64"
            ]
          },
          "metadata": {},
          "execution_count": 69
        }
      ]
    },
    {
      "cell_type": "code",
      "source": [
        "# MongoDB\n",
        "ds['MongoDB'] = ds['Job_description'].apply(lambda x: 1 if 'mongodb' in x.lower() else 0)\n",
        "ds.MongoDB.value_counts()"
      ],
      "metadata": {
        "colab": {
          "base_uri": "https://localhost:8080/"
        },
        "id": "7Bug9DQVt0ru",
        "outputId": "f529140d-c91f-490c-c36d-b0d75c9f6bb4"
      },
      "execution_count": 70,
      "outputs": [
        {
          "output_type": "execute_result",
          "data": {
            "text/plain": [
              "0    2915\n",
              "1      35\n",
              "Name: MongoDB, dtype: int64"
            ]
          },
          "metadata": {},
          "execution_count": 70
        }
      ]
    },
    {
      "cell_type": "code",
      "source": [
        "# Tableau\n",
        "ds['Tableau'] = ds['Job_description'].apply(lambda x: 1 if 'tableau' in x.lower() else 0)\n",
        "ds.Tableau.value_counts()"
      ],
      "metadata": {
        "colab": {
          "base_uri": "https://localhost:8080/"
        },
        "id": "Oga0ouYpuol2",
        "outputId": "4f62c990-d85c-4ad8-b0ee-01d8f20b64e2"
      },
      "execution_count": 71,
      "outputs": [
        {
          "output_type": "execute_result",
          "data": {
            "text/plain": [
              "0    2540\n",
              "1     410\n",
              "Name: Tableau, dtype: int64"
            ]
          },
          "metadata": {},
          "execution_count": 71
        }
      ]
    },
    {
      "cell_type": "code",
      "source": [
        "# Alteryx\n",
        "ds['Alteryx'] = ds['Job_description'].apply(lambda x: 1 if 'alteryx' in x.lower() else 0)\n",
        "ds.Alteryx.value_counts()"
      ],
      "metadata": {
        "colab": {
          "base_uri": "https://localhost:8080/"
        },
        "id": "uske2FX8uorB",
        "outputId": "5d5942f5-6df1-4af3-d09b-e730ab905eb8"
      },
      "execution_count": 72,
      "outputs": [
        {
          "output_type": "execute_result",
          "data": {
            "text/plain": [
              "0    2914\n",
              "1      36\n",
              "Name: Alteryx, dtype: int64"
            ]
          },
          "metadata": {},
          "execution_count": 72
        }
      ]
    },
    {
      "cell_type": "code",
      "source": [
        "# NLTK\n",
        "ds['NLTK'] = ds['Job_description'].apply(lambda x: 1 if 'nltk' in x.lower() else 0)\n",
        "ds.NLTK.value_counts()"
      ],
      "metadata": {
        "colab": {
          "base_uri": "https://localhost:8080/"
        },
        "id": "Veo42ORFuowr",
        "outputId": "916a356f-64e0-4f52-b54e-f6fe24b7b6b7"
      },
      "execution_count": 73,
      "outputs": [
        {
          "output_type": "execute_result",
          "data": {
            "text/plain": [
              "0    2950\n",
              "Name: NLTK, dtype: int64"
            ]
          },
          "metadata": {},
          "execution_count": 73
        }
      ]
    },
    {
      "cell_type": "code",
      "source": [
        "# KNIME\n",
        "ds['KNIME'] = ds['Job_description'].apply(lambda x: 1 if 'knime' in x.lower() else 0)\n",
        "ds.KNIME.value_counts()"
      ],
      "metadata": {
        "colab": {
          "base_uri": "https://localhost:8080/"
        },
        "id": "k_HwTYXFwFI_",
        "outputId": "6ad36caa-cfbc-4446-df75-28003a19b1d6"
      },
      "execution_count": 74,
      "outputs": [
        {
          "output_type": "execute_result",
          "data": {
            "text/plain": [
              "0    2949\n",
              "1       1\n",
              "Name: KNIME, dtype: int64"
            ]
          },
          "metadata": {},
          "execution_count": 74
        }
      ]
    },
    {
      "cell_type": "code",
      "source": [
        "# SPSS\n",
        "ds['SPSS'] = ds['Job_description'].apply(lambda x: 1 if 'spss' in x.lower() else 0)\n",
        "ds.SPSS.value_counts()"
      ],
      "metadata": {
        "colab": {
          "base_uri": "https://localhost:8080/"
        },
        "id": "AWQgjSr9wFOY",
        "outputId": "c41a1d8e-7870-4dc6-d43c-78ea99c53b99"
      },
      "execution_count": 75,
      "outputs": [
        {
          "output_type": "execute_result",
          "data": {
            "text/plain": [
              "0    2924\n",
              "1      26\n",
              "Name: SPSS, dtype: int64"
            ]
          },
          "metadata": {},
          "execution_count": 75
        }
      ]
    },
    {
      "cell_type": "code",
      "source": [
        "# JULIA\n",
        "ds['JULIA'] = ds['Job_description'].apply(lambda x: 1 if 'julia' in x.lower() else 0)\n",
        "ds.JULIA.value_counts()"
      ],
      "metadata": {
        "colab": {
          "base_uri": "https://localhost:8080/"
        },
        "id": "f2o40uh_wFR6",
        "outputId": "b480c2be-32ca-43bf-8a2d-cd3c1d73a9f9"
      },
      "execution_count": 76,
      "outputs": [
        {
          "output_type": "execute_result",
          "data": {
            "text/plain": [
              "0    2947\n",
              "1       3\n",
              "Name: JULIA, dtype: int64"
            ]
          },
          "metadata": {},
          "execution_count": 76
        }
      ]
    },
    {
      "cell_type": "code",
      "source": [
        "# BigML\n",
        "ds['BigML'] = ds['Job_description'].apply(lambda x: 1 if 'bigml' in x.lower() else 0)\n",
        "ds.BigML.value_counts()"
      ],
      "metadata": {
        "colab": {
          "base_uri": "https://localhost:8080/"
        },
        "id": "bT9hEJRawFV6",
        "outputId": "c5b1676f-d7d9-448f-dba5-748e3e9f8c44"
      },
      "execution_count": 77,
      "outputs": [
        {
          "output_type": "execute_result",
          "data": {
            "text/plain": [
              "0    2950\n",
              "Name: BigML, dtype: int64"
            ]
          },
          "metadata": {},
          "execution_count": 77
        }
      ]
    },
    {
      "cell_type": "code",
      "source": [
        "#r studio\n",
        "ds['R_tool'] = ds['Job_description'].apply(lambda x: 1 if 'r studio' in x.lower() or 'r-studio' in x.lower() else 0)\n",
        "ds.R_tool.value_counts()\n",
        "\n"
      ],
      "metadata": {
        "colab": {
          "base_uri": "https://localhost:8080/"
        },
        "id": "Gzxr5KRJbiUa",
        "outputId": "7390d92a-4c15-4178-e4a0-2331854b95de"
      },
      "execution_count": 78,
      "outputs": [
        {
          "output_type": "execute_result",
          "data": {
            "text/plain": [
              "0    2945\n",
              "1       5\n",
              "Name: R_tool, dtype: int64"
            ]
          },
          "metadata": {},
          "execution_count": 78
        }
      ]
    },
    {
      "cell_type": "code",
      "source": [
        "#excel\n",
        "ds['excel'] = ds['Job_description'].apply(lambda x: 1 if 'excel' in x.lower() else 0)\n",
        "ds.excel.value_counts()"
      ],
      "metadata": {
        "colab": {
          "base_uri": "https://localhost:8080/"
        },
        "id": "gsMDbcbObiWw",
        "outputId": "563d6df9-927d-4cd0-a5c9-4b5ca4e33686"
      },
      "execution_count": 79,
      "outputs": [
        {
          "output_type": "execute_result",
          "data": {
            "text/plain": [
              "1    1720\n",
              "0    1230\n",
              "Name: excel, dtype: int64"
            ]
          },
          "metadata": {},
          "execution_count": 79
        }
      ]
    },
    {
      "cell_type": "code",
      "source": [
        "#spark\n",
        "ds['spark'] = ds['Job_description'].apply(lambda x: 1 if 'spark' in x.lower() else 0)\n",
        "ds.spark.value_counts()"
      ],
      "metadata": {
        "colab": {
          "base_uri": "https://localhost:8080/"
        },
        "id": "32x_1dXRbrSC",
        "outputId": "e9c493ec-f8eb-494b-b94d-1b3d999319db"
      },
      "execution_count": 80,
      "outputs": [
        {
          "output_type": "execute_result",
          "data": {
            "text/plain": [
              "0    2652\n",
              "1     298\n",
              "Name: spark, dtype: int64"
            ]
          },
          "metadata": {},
          "execution_count": 80
        }
      ]
    },
    {
      "cell_type": "code",
      "source": [
        "#aws\n",
        "ds['aws'] = ds['Job_description'].apply(lambda x: 1 if 'aws' in x.lower() else 0)\n",
        "ds.aws.value_counts()\n",
        "\n"
      ],
      "metadata": {
        "colab": {
          "base_uri": "https://localhost:8080/"
        },
        "id": "Cj5XpsecbrWu",
        "outputId": "a122df0f-9bdb-4e19-bb50-cc7a5d330714"
      },
      "execution_count": 81,
      "outputs": [
        {
          "output_type": "execute_result",
          "data": {
            "text/plain": [
              "0    2188\n",
              "1     762\n",
              "Name: aws, dtype: int64"
            ]
          },
          "metadata": {},
          "execution_count": 81
        }
      ]
    },
    {
      "cell_type": "markdown",
      "source": [
        "# TOTAL TOOLS/SKILLSET"
      ],
      "metadata": {
        "id": "kcRddFkQw_g4"
      }
    },
    {
      "cell_type": "code",
      "source": [
        "column_names = ['python', 'SQL', 'SAS', 'MATLAB','Power_BI', 'DataRobot', 'MongoDB', 'Tableau', 'Alteryx', 'NLTK','KNIME', 'SPSS', 'JULIA', 'BigML', 'R_tool', 'excel', 'spark', 'aws']\n",
        "ds['Total_skills']= ds[column_names].sum(axis=1)\n",
        "ds.State = ds.State.str.strip()"
      ],
      "metadata": {
        "id": "OETwnK3cxGVO"
      },
      "execution_count": 82,
      "outputs": []
    },
    {
      "cell_type": "code",
      "source": [
        "ds['Total_skills']"
      ],
      "metadata": {
        "colab": {
          "base_uri": "https://localhost:8080/"
        },
        "id": "GTJNF0uBxGX5",
        "outputId": "82e2ca8e-4b5e-4261-9656-600f873a6d57"
      },
      "execution_count": 83,
      "outputs": [
        {
          "output_type": "execute_result",
          "data": {
            "text/plain": [
              "0       4\n",
              "1       1\n",
              "3       0\n",
              "4       0\n",
              "5       1\n",
              "       ..\n",
              "3544    1\n",
              "3545    4\n",
              "3546    5\n",
              "3547    1\n",
              "3548    2\n",
              "Name: Total_skills, Length: 2950, dtype: int64"
            ]
          },
          "metadata": {},
          "execution_count": 83
        }
      ]
    },
    {
      "cell_type": "code",
      "source": [
        "ds.columns"
      ],
      "metadata": {
        "colab": {
          "base_uri": "https://localhost:8080/"
        },
        "id": "--7k53Mz3Jgf",
        "outputId": "e459362b-c4f0-49e8-e532-accb18f43b46"
      },
      "execution_count": 84,
      "outputs": [
        {
          "output_type": "execute_result",
          "data": {
            "text/plain": [
              "Index(['Location', 'rating', 'Job_title', 'Place', 'salary', 'post_date',\n",
              "       'Job_description', 'hourly', 'min_hr', 'salary_limit', 'limit_count',\n",
              "       'min_salary', 'max_salary', 'average_salary', 'place_var',\n",
              "       'place_limit', 'State', 'City', 'Place_vars', 'Place_count', 'Title',\n",
              "       'Rank', 'Job_Type', 'desc_len', 'python', 'SQL', 'SAS', 'MATLAB',\n",
              "       'Power_BI', 'DataRobot', 'MongoDB', 'Tableau', 'Alteryx', 'NLTK',\n",
              "       'KNIME', 'SPSS', 'JULIA', 'BigML', 'R_tool', 'excel', 'spark', 'aws',\n",
              "       'Total_skills'],\n",
              "      dtype='object')"
            ]
          },
          "metadata": {},
          "execution_count": 84
        }
      ]
    },
    {
      "cell_type": "code",
      "source": [
        "df = ds.drop(['post_date','salary','min_hr','place_limit','place_var','salary_limit','limit_count','Job_title','Place_vars','Place_count','Place'], axis=1)\n",
        "df = df.sort_values(by=['average_salary'],ascending=False).reset_index()\n",
        "df = df.drop('index', axis=1)\n",
        "df = df.drop_duplicates()\n",
        "df.head()"
      ],
      "metadata": {
        "colab": {
          "base_uri": "https://localhost:8080/",
          "height": 322
        },
        "id": "qJtfGgUdFNPB",
        "outputId": "8f38bdb6-881a-4240-e8b9-e0c73ca06a65"
      },
      "execution_count": 85,
      "outputs": [
        {
          "output_type": "execute_result",
          "data": {
            "text/plain": [
              "        Location  rating                                    Job_description  \\\n",
              "0  United States     3.4  Join a Pioneering Proprietary Trading Firm in ...   \n",
              "2  United States     4.1  Use your experience in business management & o...   \n",
              "3  United States     2.9                                                nan   \n",
              "4  United States     4.0  49090BR\\nUSA - California - Mountain View/Sunn...   \n",
              "5  United States     3.1  Bring your heart to CVS Health. Every one of u...   \n",
              "\n",
              "   hourly  min_salary  max_salary  average_salary State           City  \\\n",
              "0       0       150.0       800.0           475.0    TX        Houston   \n",
              "2       0       105.0       525.0           315.0    CO         Denver   \n",
              "3       0       240.0       350.0           295.0    CA    Los Angeles   \n",
              "4       0       234.0       350.0           292.0    CA  Mountain View   \n",
              "5       0       240.0       340.0           290.0    CT       Hartford   \n",
              "\n",
              "            Title  ... NLTK KNIME  SPSS  JULIA  BigML  R_tool  excel  spark  \\\n",
              "0   data engineer  ...    0     0     0      0      0       0      0      0   \n",
              "2         analyst  ...    0     0     0      0      0       0      0      0   \n",
              "3  data scientist  ...    0     0     0      0      0       0      0      0   \n",
              "4             mle  ...    0     0     0      0      0       0      1      0   \n",
              "5          others  ...    0     0     0      0      0       0      1      0   \n",
              "\n",
              "   aws  Total_skills  \n",
              "0    0             1  \n",
              "2    0             0  \n",
              "3    0             0  \n",
              "4    0             1  \n",
              "5    0             1  \n",
              "\n",
              "[5 rows x 32 columns]"
            ],
            "text/html": [
              "\n",
              "  <div id=\"df-32e501a3-47fc-4ec6-805b-79765e4d3ebb\" class=\"colab-df-container\">\n",
              "    <div>\n",
              "<style scoped>\n",
              "    .dataframe tbody tr th:only-of-type {\n",
              "        vertical-align: middle;\n",
              "    }\n",
              "\n",
              "    .dataframe tbody tr th {\n",
              "        vertical-align: top;\n",
              "    }\n",
              "\n",
              "    .dataframe thead th {\n",
              "        text-align: right;\n",
              "    }\n",
              "</style>\n",
              "<table border=\"1\" class=\"dataframe\">\n",
              "  <thead>\n",
              "    <tr style=\"text-align: right;\">\n",
              "      <th></th>\n",
              "      <th>Location</th>\n",
              "      <th>rating</th>\n",
              "      <th>Job_description</th>\n",
              "      <th>hourly</th>\n",
              "      <th>min_salary</th>\n",
              "      <th>max_salary</th>\n",
              "      <th>average_salary</th>\n",
              "      <th>State</th>\n",
              "      <th>City</th>\n",
              "      <th>Title</th>\n",
              "      <th>...</th>\n",
              "      <th>NLTK</th>\n",
              "      <th>KNIME</th>\n",
              "      <th>SPSS</th>\n",
              "      <th>JULIA</th>\n",
              "      <th>BigML</th>\n",
              "      <th>R_tool</th>\n",
              "      <th>excel</th>\n",
              "      <th>spark</th>\n",
              "      <th>aws</th>\n",
              "      <th>Total_skills</th>\n",
              "    </tr>\n",
              "  </thead>\n",
              "  <tbody>\n",
              "    <tr>\n",
              "      <th>0</th>\n",
              "      <td>United States</td>\n",
              "      <td>3.4</td>\n",
              "      <td>Join a Pioneering Proprietary Trading Firm in ...</td>\n",
              "      <td>0</td>\n",
              "      <td>150.0</td>\n",
              "      <td>800.0</td>\n",
              "      <td>475.0</td>\n",
              "      <td>TX</td>\n",
              "      <td>Houston</td>\n",
              "      <td>data engineer</td>\n",
              "      <td>...</td>\n",
              "      <td>0</td>\n",
              "      <td>0</td>\n",
              "      <td>0</td>\n",
              "      <td>0</td>\n",
              "      <td>0</td>\n",
              "      <td>0</td>\n",
              "      <td>0</td>\n",
              "      <td>0</td>\n",
              "      <td>0</td>\n",
              "      <td>1</td>\n",
              "    </tr>\n",
              "    <tr>\n",
              "      <th>2</th>\n",
              "      <td>United States</td>\n",
              "      <td>4.1</td>\n",
              "      <td>Use your experience in business management &amp; o...</td>\n",
              "      <td>0</td>\n",
              "      <td>105.0</td>\n",
              "      <td>525.0</td>\n",
              "      <td>315.0</td>\n",
              "      <td>CO</td>\n",
              "      <td>Denver</td>\n",
              "      <td>analyst</td>\n",
              "      <td>...</td>\n",
              "      <td>0</td>\n",
              "      <td>0</td>\n",
              "      <td>0</td>\n",
              "      <td>0</td>\n",
              "      <td>0</td>\n",
              "      <td>0</td>\n",
              "      <td>0</td>\n",
              "      <td>0</td>\n",
              "      <td>0</td>\n",
              "      <td>0</td>\n",
              "    </tr>\n",
              "    <tr>\n",
              "      <th>3</th>\n",
              "      <td>United States</td>\n",
              "      <td>2.9</td>\n",
              "      <td>nan</td>\n",
              "      <td>0</td>\n",
              "      <td>240.0</td>\n",
              "      <td>350.0</td>\n",
              "      <td>295.0</td>\n",
              "      <td>CA</td>\n",
              "      <td>Los Angeles</td>\n",
              "      <td>data scientist</td>\n",
              "      <td>...</td>\n",
              "      <td>0</td>\n",
              "      <td>0</td>\n",
              "      <td>0</td>\n",
              "      <td>0</td>\n",
              "      <td>0</td>\n",
              "      <td>0</td>\n",
              "      <td>0</td>\n",
              "      <td>0</td>\n",
              "      <td>0</td>\n",
              "      <td>0</td>\n",
              "    </tr>\n",
              "    <tr>\n",
              "      <th>4</th>\n",
              "      <td>United States</td>\n",
              "      <td>4.0</td>\n",
              "      <td>49090BR\\nUSA - California - Mountain View/Sunn...</td>\n",
              "      <td>0</td>\n",
              "      <td>234.0</td>\n",
              "      <td>350.0</td>\n",
              "      <td>292.0</td>\n",
              "      <td>CA</td>\n",
              "      <td>Mountain View</td>\n",
              "      <td>mle</td>\n",
              "      <td>...</td>\n",
              "      <td>0</td>\n",
              "      <td>0</td>\n",
              "      <td>0</td>\n",
              "      <td>0</td>\n",
              "      <td>0</td>\n",
              "      <td>0</td>\n",
              "      <td>1</td>\n",
              "      <td>0</td>\n",
              "      <td>0</td>\n",
              "      <td>1</td>\n",
              "    </tr>\n",
              "    <tr>\n",
              "      <th>5</th>\n",
              "      <td>United States</td>\n",
              "      <td>3.1</td>\n",
              "      <td>Bring your heart to CVS Health. Every one of u...</td>\n",
              "      <td>0</td>\n",
              "      <td>240.0</td>\n",
              "      <td>340.0</td>\n",
              "      <td>290.0</td>\n",
              "      <td>CT</td>\n",
              "      <td>Hartford</td>\n",
              "      <td>others</td>\n",
              "      <td>...</td>\n",
              "      <td>0</td>\n",
              "      <td>0</td>\n",
              "      <td>0</td>\n",
              "      <td>0</td>\n",
              "      <td>0</td>\n",
              "      <td>0</td>\n",
              "      <td>1</td>\n",
              "      <td>0</td>\n",
              "      <td>0</td>\n",
              "      <td>1</td>\n",
              "    </tr>\n",
              "  </tbody>\n",
              "</table>\n",
              "<p>5 rows × 32 columns</p>\n",
              "</div>\n",
              "    <div class=\"colab-df-buttons\">\n",
              "\n",
              "  <div class=\"colab-df-container\">\n",
              "    <button class=\"colab-df-convert\" onclick=\"convertToInteractive('df-32e501a3-47fc-4ec6-805b-79765e4d3ebb')\"\n",
              "            title=\"Convert this dataframe to an interactive table.\"\n",
              "            style=\"display:none;\">\n",
              "\n",
              "  <svg xmlns=\"http://www.w3.org/2000/svg\" height=\"24px\" viewBox=\"0 -960 960 960\">\n",
              "    <path d=\"M120-120v-720h720v720H120Zm60-500h600v-160H180v160Zm220 220h160v-160H400v160Zm0 220h160v-160H400v160ZM180-400h160v-160H180v160Zm440 0h160v-160H620v160ZM180-180h160v-160H180v160Zm440 0h160v-160H620v160Z\"/>\n",
              "  </svg>\n",
              "    </button>\n",
              "\n",
              "  <style>\n",
              "    .colab-df-container {\n",
              "      display:flex;\n",
              "      gap: 12px;\n",
              "    }\n",
              "\n",
              "    .colab-df-convert {\n",
              "      background-color: #E8F0FE;\n",
              "      border: none;\n",
              "      border-radius: 50%;\n",
              "      cursor: pointer;\n",
              "      display: none;\n",
              "      fill: #1967D2;\n",
              "      height: 32px;\n",
              "      padding: 0 0 0 0;\n",
              "      width: 32px;\n",
              "    }\n",
              "\n",
              "    .colab-df-convert:hover {\n",
              "      background-color: #E2EBFA;\n",
              "      box-shadow: 0px 1px 2px rgba(60, 64, 67, 0.3), 0px 1px 3px 1px rgba(60, 64, 67, 0.15);\n",
              "      fill: #174EA6;\n",
              "    }\n",
              "\n",
              "    .colab-df-buttons div {\n",
              "      margin-bottom: 4px;\n",
              "    }\n",
              "\n",
              "    [theme=dark] .colab-df-convert {\n",
              "      background-color: #3B4455;\n",
              "      fill: #D2E3FC;\n",
              "    }\n",
              "\n",
              "    [theme=dark] .colab-df-convert:hover {\n",
              "      background-color: #434B5C;\n",
              "      box-shadow: 0px 1px 3px 1px rgba(0, 0, 0, 0.15);\n",
              "      filter: drop-shadow(0px 1px 2px rgba(0, 0, 0, 0.3));\n",
              "      fill: #FFFFFF;\n",
              "    }\n",
              "  </style>\n",
              "\n",
              "    <script>\n",
              "      const buttonEl =\n",
              "        document.querySelector('#df-32e501a3-47fc-4ec6-805b-79765e4d3ebb button.colab-df-convert');\n",
              "      buttonEl.style.display =\n",
              "        google.colab.kernel.accessAllowed ? 'block' : 'none';\n",
              "\n",
              "      async function convertToInteractive(key) {\n",
              "        const element = document.querySelector('#df-32e501a3-47fc-4ec6-805b-79765e4d3ebb');\n",
              "        const dataTable =\n",
              "          await google.colab.kernel.invokeFunction('convertToInteractive',\n",
              "                                                    [key], {});\n",
              "        if (!dataTable) return;\n",
              "\n",
              "        const docLinkHtml = 'Like what you see? Visit the ' +\n",
              "          '<a target=\"_blank\" href=https://colab.research.google.com/notebooks/data_table.ipynb>data table notebook</a>'\n",
              "          + ' to learn more about interactive tables.';\n",
              "        element.innerHTML = '';\n",
              "        dataTable['output_type'] = 'display_data';\n",
              "        await google.colab.output.renderOutput(dataTable, element);\n",
              "        const docLink = document.createElement('div');\n",
              "        docLink.innerHTML = docLinkHtml;\n",
              "        element.appendChild(docLink);\n",
              "      }\n",
              "    </script>\n",
              "  </div>\n",
              "\n",
              "\n",
              "<div id=\"df-b24a72b0-b4a7-4a02-a704-3ff4cd5d6437\">\n",
              "  <button class=\"colab-df-quickchart\" onclick=\"quickchart('df-b24a72b0-b4a7-4a02-a704-3ff4cd5d6437')\"\n",
              "            title=\"Suggest charts\"\n",
              "            style=\"display:none;\">\n",
              "\n",
              "<svg xmlns=\"http://www.w3.org/2000/svg\" height=\"24px\"viewBox=\"0 0 24 24\"\n",
              "     width=\"24px\">\n",
              "    <g>\n",
              "        <path d=\"M19 3H5c-1.1 0-2 .9-2 2v14c0 1.1.9 2 2 2h14c1.1 0 2-.9 2-2V5c0-1.1-.9-2-2-2zM9 17H7v-7h2v7zm4 0h-2V7h2v10zm4 0h-2v-4h2v4z\"/>\n",
              "    </g>\n",
              "</svg>\n",
              "  </button>\n",
              "\n",
              "<style>\n",
              "  .colab-df-quickchart {\n",
              "      --bg-color: #E8F0FE;\n",
              "      --fill-color: #1967D2;\n",
              "      --hover-bg-color: #E2EBFA;\n",
              "      --hover-fill-color: #174EA6;\n",
              "      --disabled-fill-color: #AAA;\n",
              "      --disabled-bg-color: #DDD;\n",
              "  }\n",
              "\n",
              "  [theme=dark] .colab-df-quickchart {\n",
              "      --bg-color: #3B4455;\n",
              "      --fill-color: #D2E3FC;\n",
              "      --hover-bg-color: #434B5C;\n",
              "      --hover-fill-color: #FFFFFF;\n",
              "      --disabled-bg-color: #3B4455;\n",
              "      --disabled-fill-color: #666;\n",
              "  }\n",
              "\n",
              "  .colab-df-quickchart {\n",
              "    background-color: var(--bg-color);\n",
              "    border: none;\n",
              "    border-radius: 50%;\n",
              "    cursor: pointer;\n",
              "    display: none;\n",
              "    fill: var(--fill-color);\n",
              "    height: 32px;\n",
              "    padding: 0;\n",
              "    width: 32px;\n",
              "  }\n",
              "\n",
              "  .colab-df-quickchart:hover {\n",
              "    background-color: var(--hover-bg-color);\n",
              "    box-shadow: 0 1px 2px rgba(60, 64, 67, 0.3), 0 1px 3px 1px rgba(60, 64, 67, 0.15);\n",
              "    fill: var(--button-hover-fill-color);\n",
              "  }\n",
              "\n",
              "  .colab-df-quickchart-complete:disabled,\n",
              "  .colab-df-quickchart-complete:disabled:hover {\n",
              "    background-color: var(--disabled-bg-color);\n",
              "    fill: var(--disabled-fill-color);\n",
              "    box-shadow: none;\n",
              "  }\n",
              "\n",
              "  .colab-df-spinner {\n",
              "    border: 2px solid var(--fill-color);\n",
              "    border-color: transparent;\n",
              "    border-bottom-color: var(--fill-color);\n",
              "    animation:\n",
              "      spin 1s steps(1) infinite;\n",
              "  }\n",
              "\n",
              "  @keyframes spin {\n",
              "    0% {\n",
              "      border-color: transparent;\n",
              "      border-bottom-color: var(--fill-color);\n",
              "      border-left-color: var(--fill-color);\n",
              "    }\n",
              "    20% {\n",
              "      border-color: transparent;\n",
              "      border-left-color: var(--fill-color);\n",
              "      border-top-color: var(--fill-color);\n",
              "    }\n",
              "    30% {\n",
              "      border-color: transparent;\n",
              "      border-left-color: var(--fill-color);\n",
              "      border-top-color: var(--fill-color);\n",
              "      border-right-color: var(--fill-color);\n",
              "    }\n",
              "    40% {\n",
              "      border-color: transparent;\n",
              "      border-right-color: var(--fill-color);\n",
              "      border-top-color: var(--fill-color);\n",
              "    }\n",
              "    60% {\n",
              "      border-color: transparent;\n",
              "      border-right-color: var(--fill-color);\n",
              "    }\n",
              "    80% {\n",
              "      border-color: transparent;\n",
              "      border-right-color: var(--fill-color);\n",
              "      border-bottom-color: var(--fill-color);\n",
              "    }\n",
              "    90% {\n",
              "      border-color: transparent;\n",
              "      border-bottom-color: var(--fill-color);\n",
              "    }\n",
              "  }\n",
              "</style>\n",
              "\n",
              "  <script>\n",
              "    async function quickchart(key) {\n",
              "      const quickchartButtonEl =\n",
              "        document.querySelector('#' + key + ' button');\n",
              "      quickchartButtonEl.disabled = true;  // To prevent multiple clicks.\n",
              "      quickchartButtonEl.classList.add('colab-df-spinner');\n",
              "      try {\n",
              "        const charts = await google.colab.kernel.invokeFunction(\n",
              "            'suggestCharts', [key], {});\n",
              "      } catch (error) {\n",
              "        console.error('Error during call to suggestCharts:', error);\n",
              "      }\n",
              "      quickchartButtonEl.classList.remove('colab-df-spinner');\n",
              "      quickchartButtonEl.classList.add('colab-df-quickchart-complete');\n",
              "    }\n",
              "    (() => {\n",
              "      let quickchartButtonEl =\n",
              "        document.querySelector('#df-b24a72b0-b4a7-4a02-a704-3ff4cd5d6437 button');\n",
              "      quickchartButtonEl.style.display =\n",
              "        google.colab.kernel.accessAllowed ? 'block' : 'none';\n",
              "    })();\n",
              "  </script>\n",
              "</div>\n",
              "\n",
              "    </div>\n",
              "  </div>\n"
            ],
            "application/vnd.google.colaboratory.intrinsic+json": {
              "type": "dataframe",
              "variable_name": "df"
            }
          },
          "metadata": {},
          "execution_count": 85
        }
      ]
    },
    {
      "cell_type": "code",
      "source": [
        "df.columns"
      ],
      "metadata": {
        "colab": {
          "base_uri": "https://localhost:8080/"
        },
        "id": "zsDxNYN4miij",
        "outputId": "917410d8-278e-4c98-b827-e9c241ffba3f"
      },
      "execution_count": 86,
      "outputs": [
        {
          "output_type": "execute_result",
          "data": {
            "text/plain": [
              "Index(['Location', 'rating', 'Job_description', 'hourly', 'min_salary',\n",
              "       'max_salary', 'average_salary', 'State', 'City', 'Title', 'Rank',\n",
              "       'Job_Type', 'desc_len', 'python', 'SQL', 'SAS', 'MATLAB', 'Power_BI',\n",
              "       'DataRobot', 'MongoDB', 'Tableau', 'Alteryx', 'NLTK', 'KNIME', 'SPSS',\n",
              "       'JULIA', 'BigML', 'R_tool', 'excel', 'spark', 'aws', 'Total_skills'],\n",
              "      dtype='object')"
            ]
          },
          "metadata": {},
          "execution_count": 86
        }
      ]
    },
    {
      "cell_type": "code",
      "source": [
        "#Export Dataset to google drive\n",
        "path = '/content/drive/MyDrive/DATA 608/Assignment 4/dataPractitioner.csv'\n",
        "with open(path, 'w', encoding = 'utf-8-sig') as f:\n",
        "  df.to_csv(f,index=False)\n",
        ""
      ],
      "metadata": {
        "id": "A8fV8dSnHK7q"
      },
      "execution_count": 87,
      "outputs": []
    },
    {
      "cell_type": "markdown",
      "source": [
        "# Mean Data Practictioners Salary Across States"
      ],
      "metadata": {
        "id": "1jy_45kWoZN6"
      }
    },
    {
      "cell_type": "code",
      "source": [
        "# Grouping data by Job Title to calculate the average salary\n",
        "mean_salary_by_title = df.groupby('Title')['average_salary'].mean().sort_values(ascending=False).reset_index()\n",
        "\n",
        "\n",
        "# Sorting the data by average salary for better visualization\n",
        "average_salary_by_title_sorted = mean_salary_by_title.sort_values(by='average_salary')\n",
        "\n",
        "# Creating the bar plot with mean average salary annotated on each bar\n",
        "plt.figure(figsize=(8,4))\n",
        "#bars = plt.barh(mean_salary_by_title['Title'], mean_salary_by_title['average_salary'], color='skyblue')\n",
        "bars = plt.barh(average_salary_by_title_sorted['Title'], average_salary_by_title_sorted['average_salary'], color='skyblue')\n",
        "\n",
        "# Annotating each bar with the mean average salary\n",
        "for bar in bars:\n",
        "    width = bar.get_width()\n",
        "    plt.text(width + 8, bar.get_y() + bar.get_height()/2,\n",
        "             f\"${width:.0f}K\", ha='center', va='center')\n",
        "\n",
        "plt.title('Mean Average Salary by Job Title')\n",
        "plt.xlabel('Mean Average Salary ($)')\n",
        "plt.ylabel('')\n",
        "plt.gca().invert_yaxis()  # To display the highest salaries at the top\n",
        "plt.tight_layout()  # Adjust layout to make room for the annotations\n",
        "plt.grid(False)\n",
        "plt.show()\n"
      ],
      "metadata": {
        "colab": {
          "base_uri": "https://localhost:8080/",
          "height": 407
        },
        "id": "3L-IUAvCSIM1",
        "outputId": "39bbd6d5-8870-4980-89c9-42845d494b4a"
      },
      "execution_count": 88,
      "outputs": [
        {
          "output_type": "display_data",
          "data": {
            "text/plain": [
              "<Figure size 800x400 with 1 Axes>"
            ],
            "image/png": "[encoded data removed]"
          },
          "metadata": {}
        }
      ]
    },
    {
      "cell_type": "markdown",
      "source": [
        "# Mean Data Practictioners Salaries Across States And Job Titles"
      ],
      "metadata": {
        "id": "anQRn9q_olnM"
      }
    },
    {
      "cell_type": "code",
      "source": [
        "\n",
        "# Calculating average salary for each combination of state and job title\n",
        "avg_salary = df.groupby(['State', 'Title'])['average_salary'].mean().reset_index()\n",
        "\n",
        "# Pivoting the data for easier plotting\n",
        "pivoted_data = avg_salary.pivot(index='State', columns='Title', values='average_salary').fillna(0)\n",
        "\n",
        "# Adding a total salary by state for sorting\n",
        "pivoted_data['Total'] = pivoted_data.sum(axis=1)\n",
        "sorted_data = pivoted_data.sort_values('Total', ascending=False).drop(columns='Total')[0:15]\n",
        "\n",
        "# Plotting\n",
        "fig, ax = plt.subplots(figsize=(12,6))\n",
        "sorted_data.plot(kind='bar', stacked=True, ax=ax)\n",
        "\n",
        "# Adding labels (simplified; for detailed labels, iterate over bars)\n",
        "for rect in ax.patches:\n",
        "    height = rect.get_height()\n",
        "    ax.annotate(f'{height:.0f}K', (rect.get_x() + rect.get_width() / 2, rect.get_y() + height / 2),\n",
        "                ha='center', va='center', fontsize=8, color='white')\n",
        "\n",
        "ax.set_title('Average Salary by State and Job Title (Stacked, Descending Order)')\n",
        "ax.set_xlabel('State')\n",
        "ax.set_ylabel('Average Salary In Thousand')\n",
        "plt.xticks(rotation=45)\n",
        "plt.legend(title='Job Title', bbox_to_anchor=(1.05, 1), loc='upper left')\n",
        "plt.grid(False)\n",
        "plt.tight_layout()\n",
        "plt.show()\n"
      ],
      "metadata": {
        "colab": {
          "base_uri": "https://localhost:8080/",
          "height": 607
        },
        "id": "ztWHDV8oGqBL",
        "outputId": "141add3a-c9b5-4625-beaa-c9394f948129"
      },
      "execution_count": 89,
      "outputs": [
        {
          "output_type": "display_data",
          "data": {
            "text/plain": [
              "<Figure size 1200x600 with 1 Axes>"
            ],
            "image/png": "[encoded data removed]"
          },
          "metadata": {}
        }
      ]
    },
    {
      "cell_type": "markdown",
      "source": [
        "# Mean Data Practictioners Salaries Across States And Job Skill set"
      ],
      "metadata": {
        "id": "P60C-AVHo_CY"
      }
    },
    {
      "cell_type": "code",
      "source": [],
      "metadata": {
        "id": "kWKjrYm_GqFH"
      },
      "execution_count": 89,
      "outputs": []
    },
    {
      "cell_type": "code",
      "source": [
        "# Aggregating data by state and job title for mean average salary and mean total skills.\n",
        "agg_data = df.groupby(['State', 'Title']).agg(\n",
        "    mean_average_salary=('average_salary', 'mean'),\n",
        "    mean_total_skills=('Total_skills', 'mean')\n",
        ").reset_index()\n",
        "state_mapping = {'TX': 0, 'CO': 1, 'CA': 2, 'CT': 3, 'GA': 4,'DC':5,'WA':6,'NY':7,'MA':8,'IL':9,'VA':10,'OR':11,'NJ':11,'PA':12,'MN':13,\n",
        "                 'Remote Location':14,'MD':15,'WI':16,'RI':17,'NC':18,'FL':19,'AL':20,'M1':21,'NM':22,'OH':23,'DE':24,'KS':25,'AZ':26,'KY':27,'UT':28,'OK':29,'AK':30,'NV':31,'IN':32,'ID':33,\n",
        "                 'TN':34,'MS':35,'NE':36,'MO':37,'SC':38,'LA':39,'AR':40,'IA':41,'MT':42,'HI':43,'ME':44,'ND':45,'SD':46,'NH':47,'WV':48,'PR':49}\n",
        "# For simplicity and clarity, let's focus on the overall mean across all titles for now, as including all job titles clearly\n",
        "# may not be feasible without cluttering the plot. We'll use this aggregated data to highlight state-level insights.\n",
        "state_agg = agg_data.groupby('State').agg(\n",
        "    mean_average_salary=('mean_average_salary', 'mean'),\n",
        "    mean_total_skills=('mean_total_skills', 'mean')\n",
        ").reset_index()\n",
        "\n",
        "# Map states to numeric values for plotting\n",
        "state_agg['State_numeric'] = state_agg['State'].map(state_mapping)\n",
        "\n",
        "# Plotting\n",
        "plt.figure(figsize=(14, 8))\n",
        "scatter = plt.scatter(state_agg['State_numeric'], state_agg['mean_average_salary'],\n",
        "                      alpha=0.7, c=state_agg['mean_total_skills'], cmap='viridis', s=100)\n",
        "\n",
        "# Annotating each point with the mean average salary\n",
        "for i, txt in enumerate(state_agg['mean_average_salary']):\n",
        "    plt.annotate(f\"${txt:.0f}K\", (state_agg['State_numeric'].iloc[i], state_agg['mean_average_salary'].iloc[i]),\n",
        "                 textcoords=\"offset points\", xytext=(0,10), ha='center')\n",
        "\n",
        "plt.title('State vs. Mean Average Salary with Mean Total Skills (State-Level Aggregation)')\n",
        "plt.xlabel('State')\n",
        "plt.ylabel('Mean Average Salary ($)')\n",
        "\n",
        "# Replace numeric ticks with state labels\n",
        "plt.xticks(ticks=list(state_mapping.values()), labels=list(state_mapping.keys()), rotation='vertical')\n",
        "# Adding a colorbar to represent mean Total_skills\n",
        "cbar = plt.colorbar(scatter)\n",
        "cbar.set_label('Mean Total Skills')\n",
        "\n",
        "plt.grid(True)\n",
        "plt.show()\n"
      ],
      "metadata": {
        "colab": {
          "base_uri": "https://localhost:8080/",
          "height": 821
        },
        "id": "_m5OIqTI9QOo",
        "outputId": "f635f9c7-f995-4808-992b-f1b6b8654944"
      },
      "execution_count": 90,
      "outputs": [
        {
          "output_type": "display_data",
          "data": {
            "text/plain": [
              "<Figure size 1400x800 with 2 Axes>"
            ],
            "image/png": "[encoded data removed]"
          },
          "metadata": {}
        }
      ]
    },
    {
      "cell_type": "markdown",
      "source": [
        "# Correlation Between Average Salary and Number of Technical Skills"
      ],
      "metadata": {
        "id": "S_1294yIy4ZL"
      }
    },
    {
      "cell_type": "code",
      "source": [
        "correlation_salary_skill = df['average_salary'].corr(df['Total_skills'])\n",
        "\n",
        "correlation_salary_skill"
      ],
      "metadata": {
        "colab": {
          "base_uri": "https://localhost:8080/"
        },
        "id": "RIvlkbxcqi4R",
        "outputId": "ee264690-c3a4-4819-e0e1-a115bdc9052e"
      },
      "execution_count": 91,
      "outputs": [
        {
          "output_type": "execute_result",
          "data": {
            "text/plain": [
              "0.12470729602445327"
            ]
          },
          "metadata": {},
          "execution_count": 91
        }
      ]
    },
    {
      "cell_type": "code",
      "source": [],
      "metadata": {
        "id": "jeq4CeD4qi7S"
      },
      "execution_count": 91,
      "outputs": []
    }
  ]
}